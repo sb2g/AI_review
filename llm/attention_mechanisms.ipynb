{
 "cells": [
  {
   "cell_type": "code",
   "execution_count": 1,
   "metadata": {},
   "outputs": [
    {
     "name": "stdout",
     "output_type": "stream",
     "text": [
      "2.4.0\n"
     ]
    },
    {
     "data": {
      "text/plain": [
       "<torch._C.Generator at 0x7b11d9c7c390>"
      ]
     },
     "execution_count": 1,
     "metadata": {},
     "output_type": "execute_result"
    }
   ],
   "source": [
    "import torch\n",
    "import torch.nn as nn\n",
    "\n",
    "print(torch.__version__)\n",
    "\n",
    "torch.manual_seed(123)"
   ]
  },
  {
   "cell_type": "markdown",
   "metadata": {},
   "source": [
    "### Use basic torch functions"
   ]
  },
  {
   "cell_type": "code",
   "execution_count": 2,
   "metadata": {},
   "outputs": [
    {
     "name": "stdout",
     "output_type": "stream",
     "text": [
      "torch.Size([2, 3])\n"
     ]
    }
   ],
   "source": [
    "x = torch.tensor(\n",
    "    [[0.11, 0.12, 0.13],\n",
    "     [0.21, 0.22, 0.23]]\n",
    ")\n",
    "print(x.shape)"
   ]
  },
  {
   "cell_type": "code",
   "execution_count": 3,
   "metadata": {},
   "outputs": [
    {
     "data": {
      "text/plain": [
       "(tensor([[3.6434e-44, 1.9346e-19, 1.9194e-07],\n",
       "         [3.4698e-41, 1.5344e-42, 7.2143e+22]]),\n",
       " tensor([[0., 0., 0.],\n",
       "         [0., 0., 0.]]),\n",
       " tensor([[1., 1., 1.],\n",
       "         [1., 1., 1.]]),\n",
       " tensor([[0.2961, 0.5166, 0.2517],\n",
       "         [0.6886, 0.0740, 0.8665]]))"
      ]
     },
     "execution_count": 3,
     "metadata": {},
     "output_type": "execute_result"
    }
   ],
   "source": [
    "torch.empty(x.shape), torch.zeros(x.shape), torch.ones(x.shape), torch.rand(x.shape)"
   ]
  },
  {
   "cell_type": "code",
   "execution_count": 4,
   "metadata": {},
   "outputs": [
    {
     "data": {
      "text/plain": [
       "tensor([[0.3056, 0.3333, 0.3611],\n",
       "        [0.3182, 0.3333, 0.3485]])"
      ]
     },
     "execution_count": 4,
     "metadata": {},
     "output_type": "execute_result"
    }
   ],
   "source": [
    "# How to normalize x along each row\n",
    "x / x.sum(dim=1).view(x.shape[0], 1)\n"
   ]
  },
  {
   "cell_type": "code",
   "execution_count": 5,
   "metadata": {},
   "outputs": [
    {
     "name": "stdout",
     "output_type": "stream",
     "text": [
      "tensor(0.0794)\n"
     ]
    },
    {
     "data": {
      "text/plain": [
       "tensor(0.0794)"
      ]
     },
     "execution_count": 5,
     "metadata": {},
     "output_type": "execute_result"
    }
   ],
   "source": [
    "# Dot product\n",
    "\n",
    "res = 0\n",
    "for ix in range(len(x[0])):\n",
    "    res += x[0][ix] * x[1][ix]\n",
    "print(res)\n",
    "\n",
    "torch.dot(x[0], x[1])"
   ]
  },
  {
   "cell_type": "code",
   "execution_count": 6,
   "metadata": {},
   "outputs": [
    {
     "name": "stdout",
     "output_type": "stream",
     "text": [
      "tensor([[0.0434, 0.0794],\n",
      "        [0.0794, 0.1454]])\n"
     ]
    },
    {
     "data": {
      "text/plain": [
       "tensor([[0.0434, 0.0794],\n",
       "        [0.0794, 0.1454]])"
      ]
     },
     "execution_count": 6,
     "metadata": {},
     "output_type": "execute_result"
    }
   ],
   "source": [
    "# Matrix dot product\n",
    "\n",
    "att = torch.empty(len(x), len(x))\n",
    "for ix1 in range(len(x)):\n",
    "    for ix2 in range(len(x)):\n",
    "        att[ix1, ix2] = torch.dot(x[ix1], x[ix2])\n",
    "print(att)\n",
    "\n",
    "x @ x.T\n",
    "\n"
   ]
  },
  {
   "cell_type": "code",
   "execution_count": 7,
   "metadata": {},
   "outputs": [
    {
     "name": "stdout",
     "output_type": "stream",
     "text": [
      "tensor([[0.4910, 0.5090],\n",
      "        [0.4835, 0.5165]])\n"
     ]
    }
   ],
   "source": [
    "# Softmax \n",
    "\n",
    "def softmax_custom(x):\n",
    "    return torch.exp(x) / torch.exp(x).sum(dim=1).view(x.shape[0], 1)\n",
    "print(softmax_custom(att))\n",
    "\n",
    "att_w = torch.softmax(att, dim=-1)"
   ]
  },
  {
   "cell_type": "code",
   "execution_count": 8,
   "metadata": {},
   "outputs": [
    {
     "name": "stdout",
     "output_type": "stream",
     "text": [
      "torch.Size([2, 2]) torch.Size([2, 3])\n",
      "torch.Size([2, 3])\n",
      "tensor([[0.1609, 0.1709, 0.1809],\n",
      "        [0.1616, 0.1716, 0.1816]])\n"
     ]
    },
    {
     "data": {
      "text/plain": [
       "tensor([[0.1609, 0.1709, 0.1809],\n",
       "        [0.1616, 0.1716, 0.1816]])"
      ]
     },
     "execution_count": 8,
     "metadata": {},
     "output_type": "execute_result"
    }
   ],
   "source": [
    "# Contextual vectors: Multiply att_w with x\n",
    "\n",
    "print(att_w.shape, x.shape)\n",
    "\n",
    "ctx = torch.zeros(*x.shape)\n",
    "print(ctx.shape)\n",
    "for ix1 in range(x.shape[0]):\n",
    "    for ix2 in range(att_w.shape[1]):\n",
    "        ctx[ix1] += att_w[ix1, ix2] * x[ix2]\n",
    "print(ctx)\n",
    "\n",
    "ctx = att_w @ x\n",
    "ctx"
   ]
  },
  {
   "cell_type": "markdown",
   "metadata": {},
   "source": [
    "### Self attention"
   ]
  },
  {
   "cell_type": "code",
   "execution_count": 9,
   "metadata": {},
   "outputs": [
    {
     "name": "stdout",
     "output_type": "stream",
     "text": [
      "torch.Size([2, 3]) torch.Size([2, 2]) torch.Size([2, 3])\n",
      "tensor([[0.1609, 0.1709, 0.1809],\n",
      "        [0.1616, 0.1716, 0.1816]])\n"
     ]
    }
   ],
   "source": [
    "# In short\n",
    "att = x @ x.T\n",
    "ctx = torch.softmax(att, dim=-1) @ x\n",
    "print(x.shape, att.shape, ctx.shape)\n",
    "print(ctx)"
   ]
  },
  {
   "cell_type": "markdown",
   "metadata": {},
   "source": [
    "### Self attention with trainable weight parameters (using torch.nn.Parameter)"
   ]
  },
  {
   "cell_type": "code",
   "execution_count": null,
   "metadata": {},
   "outputs": [
    {
     "name": "stdout",
     "output_type": "stream",
     "text": [
      "torch.Size([2, 3]) tensor([[0.2049, 0.2957, 0.2305],\n",
      "        [0.2059, 0.2971, 0.2316]])\n"
     ]
    }
   ],
   "source": [
    "class SelfAttn1(nn.Module):\n",
    "    def __init__(self, din, d):\n",
    "        super().__init__()\n",
    "        self.wq = nn.Parameter(torch.rand(din, d), requires_grad=False)\n",
    "        self.wk = nn.Parameter(torch.rand(din, d), requires_grad=False) \n",
    "        self.wv = nn.Parameter(torch.rand(din, d), requires_grad=False)  \n",
    "\n",
    "    def forward(self, x):\n",
    "        q, k, v = x @ self.wq, x @ self.wk, x @ self.wv\n",
    "        att = q @ k.T\n",
    "        ctx = torch.softmax(att / k.shape[-1]**0.5, dim=-1) @ v\n",
    "        return ctx\n",
    "\n",
    "din = x.shape[1]\n",
    "d = 3\n",
    "layer = SelfAttn1(din, d)\n",
    "ctx = layer(x)\n",
    "print(ctx.shape, ctx)"
   ]
  },
  {
   "cell_type": "markdown",
   "metadata": {},
   "source": [
    "### Self attention with trainable weight parameters (using torch.nn.Linear)"
   ]
  },
  {
   "cell_type": "code",
   "execution_count": 14,
   "metadata": {},
   "outputs": [
    {
     "name": "stdout",
     "output_type": "stream",
     "text": [
      "torch.Size([2, 3]) tensor([[-0.0986, -0.0090, -0.0202],\n",
      "        [-0.0987, -0.0090, -0.0203]], grad_fn=<MmBackward0>)\n"
     ]
    }
   ],
   "source": [
    "# torch.nn.Linear has better weight initialization\n",
    "\n",
    "class SelfAttn2(nn.Module):\n",
    "    def __init__(self, din, d, bias=False):\n",
    "        super().__init__()\n",
    "        self.wq = nn.Linear(din, d, bias=bias)\n",
    "        self.wk = nn.Linear(din, d, bias=bias) \n",
    "        self.wv = nn.Linear(din, d, bias=bias)  \n",
    "\n",
    "    def forward(self, x):\n",
    "        q, k, v = self.wq(x), self.wk(x), self.wv(x)\n",
    "        att = q @ k.T\n",
    "        ctx = torch.softmax(att / k.shape[-1]**0.5, dim=-1) @ v\n",
    "        return ctx\n",
    "\n",
    "din = x.shape[1]\n",
    "d = 3\n",
    "layer = SelfAttn2(din, d)\n",
    "ctx = layer(x)\n",
    "print(ctx.shape, ctx)"
   ]
  },
  {
   "cell_type": "markdown",
   "metadata": {
    "vscode": {
     "languageId": "plaintext"
    }
   },
   "source": [
    "### Causal attention"
   ]
  },
  {
   "cell_type": "code",
   "execution_count": null,
   "metadata": {},
   "outputs": [],
   "source": []
  },
  {
   "cell_type": "markdown",
   "metadata": {},
   "source": [
    "### Multi-head attention"
   ]
  },
  {
   "cell_type": "code",
   "execution_count": null,
   "metadata": {},
   "outputs": [],
   "source": []
  },
  {
   "cell_type": "markdown",
   "metadata": {},
   "source": [
    "### Efficient MHA"
   ]
  },
  {
   "cell_type": "code",
   "execution_count": null,
   "metadata": {},
   "outputs": [],
   "source": []
  }
 ],
 "metadata": {
  "kernelspec": {
   "display_name": "mlenv2",
   "language": "python",
   "name": "python3"
  },
  "language_info": {
   "codemirror_mode": {
    "name": "ipython",
    "version": 3
   },
   "file_extension": ".py",
   "mimetype": "text/x-python",
   "name": "python",
   "nbconvert_exporter": "python",
   "pygments_lexer": "ipython3",
   "version": "3.9.19"
  }
 },
 "nbformat": 4,
 "nbformat_minor": 2
}

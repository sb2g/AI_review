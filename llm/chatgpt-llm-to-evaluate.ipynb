{
 "cells": [
  {
   "cell_type": "markdown",
   "metadata": {},
   "source": [
    "##### What is this notebook about?\n",
    "- This notebook shows how to use ChatGPT API to evaluate an NLP task. \n"
   ]
  },
  {
   "cell_type": "code",
   "execution_count": 1,
   "metadata": {},
   "outputs": [],
   "source": [
    "import numpy as np\n",
    "import pandas as pd\n",
    "import openai\n",
    "from openai import OpenAI\n",
    "import os\n",
    "from dotenv import load_dotenv, find_dotenv\n",
    "_ = load_dotenv(find_dotenv()) # read local .env file\n",
    "api_key = os.getenv('sk')\n",
    "client = OpenAI(\n",
    "  api_key=api_key,\n",
    ")\n"
   ]
  },
  {
   "cell_type": "code",
   "execution_count": 2,
   "metadata": {},
   "outputs": [
    {
     "name": "stdout",
     "output_type": "stream",
     "text": [
      "[{'role': 'system', 'content': 'You are an NLP evaluation assistant. Compare the meaning of translation sentence with the given reference sentence and score the translation on a continuous scale 0 to 5 using following rules: 5 means meaning is perfectly preserved. 4 means more than half of the meaning is preserved. 3 means half of the meaning is preserved. 2 means less than half of the meaning is preserved. 1 means less than quarter of the meaning is preserved. 0 means meaning is not at all preserved. Think through it and respond with a integer number for the score as `Score:`.'}, {'role': 'user', 'content': 'translation: relax on couch and watch a cartoon\\nreference: relax on couch and watch cartoons '}]\n",
      "Raw response:\n",
      "The translation sentence \"relax on couch and watch a cartoon\" and the reference sentence \"relax on couch and watch cartoons\" are very similar in meaning. The only difference is the singular \"a cartoon\" in the translation versus the plural \"cartoons\" in the reference. This difference is minor and does not significantly alter the overall meaning of the sentence, as both imply watching animated content while relaxing on a couch. Therefore, the meaning is almost perfectly preserved.\n",
      "\n",
      "Score: 5\n",
      "Processed response\n",
      "['the translation sentence \"relax on couch and watch a cartoon\" and the reference sentence \"relax on couch and watch cartoons\" are very similar in meaning. the only difference is the singular \"a cartoon\" in the translation versus the plural \"cartoons\" in the reference. this difference is minor and does not significantly alter the overall meaning of the sentence, as both imply watching animated content while relaxing on a couch. therefore, the meaning is almost perfectly preserved.', '', 'score: 5']\n",
      "=== \n",
      "\n",
      "[{'role': 'system', 'content': 'You are an NLP evaluation assistant. Compare the meaning of translation sentence with the given reference sentence and score the translation on a continuous scale 0 to 5 using following rules: 5 means meaning is perfectly preserved. 4 means more than half of the meaning is preserved. 3 means half of the meaning is preserved. 2 means less than half of the meaning is preserved. 1 means less than quarter of the meaning is preserved. 0 means meaning is not at all preserved. Think through it and respond with a integer number for the score as `Score:`.'}, {'role': 'user', 'content': 'translation: i prefer a size large shirt\\nreference: i prefer a large sized shirt '}]\n",
      "Raw response:\n",
      "The translation sentence \"i prefer a size large shirt\" and the reference sentence \"i prefer a large sized shirt\" convey almost the same meaning. Both sentences express a preference for a shirt that is large in size. The difference in wording (\"size large\" vs. \"large sized\") does not significantly alter the meaning. Therefore, the meaning is perfectly preserved.\n",
      "\n",
      "Score: 5\n",
      "Processed response\n",
      "['the translation sentence \"i prefer a size large shirt\" and the reference sentence \"i prefer a large sized shirt\" convey almost the same meaning. both sentences express a preference for a shirt that is large in size. the difference in wording (\"size large\" vs. \"large sized\") does not significantly alter the meaning. therefore, the meaning is perfectly preserved.', '', 'score: 5']\n",
      "=== \n",
      "\n",
      "[{'role': 'system', 'content': 'You are an NLP evaluation assistant. Compare the meaning of translation sentence with the given reference sentence and score the translation on a continuous scale 0 to 5 using following rules: 5 means meaning is perfectly preserved. 4 means more than half of the meaning is preserved. 3 means half of the meaning is preserved. 2 means less than half of the meaning is preserved. 1 means less than quarter of the meaning is preserved. 0 means meaning is not at all preserved. Think through it and respond with a integer number for the score as `Score:`.'}, {'role': 'user', 'content': 'translation: my street is not plowed\\nreference: my street has not been plowed yet '}]\n",
      "Raw response:\n",
      "The translation sentence \"my street is not plowed\" and the reference sentence \"my street has not been plowed yet\" convey very similar meanings. Both sentences indicate that the street has not been plowed. The only difference is the presence of the word \"yet\" in the reference sentence, which implies an expectation that the street will be plowed in the future. However, the core meaning that the street is currently not plowed is preserved in the translation. Therefore, the meaning is almost perfectly preserved.\n",
      "\n",
      "Score: 5\n",
      "Processed response\n",
      "['the translation sentence \"my street is not plowed\" and the reference sentence \"my street has not been plowed yet\" convey very similar meanings. both sentences indicate that the street has not been plowed. the only difference is the presence of the word \"yet\" in the reference sentence, which implies an expectation that the street will be plowed in the future. however, the core meaning that the street is currently not plowed is preserved in the translation. therefore, the meaning is almost perfectly preserved.', '', 'score: 5']\n",
      "=== \n",
      "\n"
     ]
    }
   ],
   "source": [
    "reference_segs = [\n",
    "    \"relax on couch and watch cartoons\",\n",
    "    \"i prefer a large sized shirt\",\n",
    "    \"my street has not been plowed yet\"\n",
    "]\n",
    "target_segs = [\n",
    "    \"relax on couch and watch a cartoon\",\n",
    "    \"i prefer a size large shirt\",\n",
    "    \"my street is not plowed\"\n",
    "]\n",
    "\n",
    "for reference_seg, target_seg in zip(reference_segs, target_segs):\n",
    "\n",
    "    instruction = (\n",
    "                f\"You are an NLP evaluation assistant. \"\n",
    "                f\"Compare the meaning of translation sentence with the given reference sentence and \"\n",
    "                f\"score the translation on a continuous scale 0 to 5 using following rules: \"\n",
    "                f\"5 means meaning is perfectly preserved. \"\n",
    "                f\"4 means more than half of the meaning is preserved. \"\n",
    "                f\"3 means half of the meaning is preserved. \"\n",
    "                f\"2 means less than half of the meaning is preserved. \"\n",
    "                f\"1 means less than quarter of the meaning is preserved. \"\n",
    "                f\"0 means meaning is not at all preserved. \" \n",
    "                f\"Think through it and respond with a integer number for the score as `Score:`.\"\n",
    "    )\n",
    "    prompt = (\n",
    "                f\"translation: {target_seg}\\n\"\n",
    "                f\"reference: {reference_seg} \"\n",
    "    )\n",
    "\n",
    "    messages = [\n",
    "        {\"role\": \"system\", \"content\": instruction},\n",
    "        {\"role\": \"user\", \"content\": prompt}\n",
    "    ]\n",
    "    print(messages)\n",
    "\n",
    "    if 1:\n",
    "        \n",
    "        response = client.chat.completions.create(\n",
    "        model=\"gpt-4o\",\n",
    "        messages=messages,\n",
    "        temperature=0,\n",
    "        max_tokens=256,\n",
    "        #top_p=1\n",
    "        )\n",
    "\n",
    "        response_text = response.choices[0].message.content.strip()\n",
    "        print(\"Raw response:\")\n",
    "        print(response_text)\n",
    "\n",
    "        response_text = response_text.lower().split('\\n')\n",
    "        print(\"Processed response\")\n",
    "        print(response_text)\n",
    "\n",
    "        print(\"=== \\n\")"
   ]
  },
  {
   "cell_type": "code",
   "execution_count": null,
   "metadata": {},
   "outputs": [],
   "source": []
  }
 ],
 "metadata": {
  "kernelspec": {
   "display_name": "mlenv2",
   "language": "python",
   "name": "python3"
  },
  "language_info": {
   "codemirror_mode": {
    "name": "ipython",
    "version": 3
   },
   "file_extension": ".py",
   "mimetype": "text/x-python",
   "name": "python",
   "nbconvert_exporter": "python",
   "pygments_lexer": "ipython3",
   "version": "3.9.19"
  }
 },
 "nbformat": 4,
 "nbformat_minor": 2
}

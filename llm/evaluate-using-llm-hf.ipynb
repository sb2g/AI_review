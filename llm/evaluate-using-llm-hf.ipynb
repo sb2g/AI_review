{
 "cells": [
  {
   "cell_type": "markdown",
   "metadata": {},
   "source": [
    "##### What is this notebook about?\n",
    "- This notebook shows how to use LLMs to evaluate any task using huggingface. \n",
    "- An example here compares 2 sentences for their meaning using Llama 3.2-3B Instruct model\n"
   ]
  },
  {
   "cell_type": "code",
   "execution_count": 1,
   "metadata": {},
   "outputs": [],
   "source": [
    "import os\n",
    "os.environ[\"CUDA_VISIBLE_DEVICES\"] = \"5\"\n"
   ]
  },
  {
   "cell_type": "code",
   "execution_count": 2,
   "metadata": {},
   "outputs": [
    {
     "name": "stderr",
     "output_type": "stream",
     "text": [
      "/home/sbujimal/miniforge3/envs/mlenv2/lib/python3.9/site-packages/tqdm/auto.py:21: TqdmWarning: IProgress not found. Please update jupyter and ipywidgets. See https://ipywidgets.readthedocs.io/en/stable/user_install.html\n",
      "  from .autonotebook import tqdm as notebook_tqdm\n",
      "Loading checkpoint shards: 100%|██████████| 2/2 [00:03<00:00,  1.50s/it]\n"
     ]
    }
   ],
   "source": [
    "from transformers import AutoModelForCausalLM, AutoTokenizer, GenerationConfig\n",
    "\n",
    "model_name = \"meta-llama/Llama-3.2-3B-Instruct\"\n",
    "\n",
    "model = AutoModelForCausalLM.from_pretrained(\n",
    "    model_name,\n",
    "    trust_remote_code=True,\n",
    "    torch_dtype=\"auto\",\n",
    "    device_map=\"auto\",\n",
    ")\n",
    "tokenizer = AutoTokenizer.from_pretrained(model_name, \n",
    "                                          trust_remote_code=True\n",
    "                                          )\n"
   ]
  },
  {
   "cell_type": "code",
   "execution_count": 3,
   "metadata": {},
   "outputs": [],
   "source": [
    "generation_config = GenerationConfig(\n",
    "    #max_length=256,\n",
    "    max_new_tokens=256,\n",
    "    #temperature=0.05,\n",
    "    #do_sample=True,\n",
    "    do_sample=False,\n",
    "    use_cache=True,\n",
    "    skip_special_tokens=True,\n",
    "    eos_token_id=tokenizer.eos_token_id,\n",
    "    pad_token_id=tokenizer.eos_token_id,\n",
    ")\n",
    "\n",
    "def tokenize_generate_response(tokenizer, model, generation_config, messages):\n",
    "\n",
    "    text = tokenizer.apply_chat_template(\n",
    "        messages,\n",
    "        tokenize=False,\n",
    "        add_generation_prompt=True\n",
    "    )\n",
    "    model_inputs = tokenizer([text], return_tensors=\"pt\").to(model.device)\n",
    "\n",
    "    generated_ids = model.generate(\n",
    "        **model_inputs,\n",
    "        generation_config=generation_config\n",
    "    )\n",
    "\n",
    "    full_response = tokenizer.batch_decode(generated_ids, skip_special_tokens=True)[0]\n",
    "    print(\"Full response (including prompt):\")\n",
    "    print(full_response)\n",
    "    \n",
    "    generated_ids = [\n",
    "        output_ids[len(input_ids):] for input_ids, output_ids in zip(model_inputs.input_ids, generated_ids)\n",
    "    ]\n",
    "    response = tokenizer.batch_decode(generated_ids, skip_special_tokens=True)[0]\n",
    "    print(\"Generated response:\")\n",
    "    print(response)\n"
   ]
  },
  {
   "cell_type": "code",
   "execution_count": 4,
   "metadata": {},
   "outputs": [
    {
     "name": "stdout",
     "output_type": "stream",
     "text": [
      "[{'role': 'system', 'content': 'You are an NLP evaluation assistant.'}, {'role': 'user', 'content': 'Compare the meaning of machine translation sentence with respect to human reference and score the machine translation on a continuous scale 0 to 5 where score of 0 means \"no meaning preserved\" and score of 5 means \"perfect meaning preserved\". Respond with only a integer number.\\n    human reference: relax on couch and watch cartoons\\n    machine translation: relax on couch and watch a cartoon\\n    Score:'}]\n",
      "Full response (including prompt):\n",
      "system\n",
      "\n",
      "Cutting Knowledge Date: December 2023\n",
      "Today Date: 27 Mar 2025\n",
      "\n",
      "You are an NLP evaluation assistant.user\n",
      "\n",
      "Compare the meaning of machine translation sentence with respect to human reference and score the machine translation on a continuous scale 0 to 5 where score of 0 means \"no meaning preserved\" and score of 5 means \"perfect meaning preserved\". Respond with only a integer number.\n",
      "    human reference: relax on couch and watch cartoons\n",
      "    machine translation: relax on couch and watch a cartoon\n",
      "    Score:assistant\n",
      "\n",
      "4\n",
      "Generated response:\n",
      "4\n",
      "===\n",
      "\n",
      "[{'role': 'system', 'content': 'You are an NLP evaluation assistant.'}, {'role': 'user', 'content': 'Compare the meaning of machine translation sentence with respect to human reference and score the machine translation on a continuous scale 0 to 5 where score of 0 means \"no meaning preserved\" and score of 5 means \"perfect meaning preserved\". Respond with only a integer number.\\n    human reference: i prefer a large sized shirt\\n    machine translation: i prefer a size large shirt\\n    Score:'}]\n",
      "Full response (including prompt):\n",
      "system\n",
      "\n",
      "Cutting Knowledge Date: December 2023\n",
      "Today Date: 27 Mar 2025\n",
      "\n",
      "You are an NLP evaluation assistant.user\n",
      "\n",
      "Compare the meaning of machine translation sentence with respect to human reference and score the machine translation on a continuous scale 0 to 5 where score of 0 means \"no meaning preserved\" and score of 5 means \"perfect meaning preserved\". Respond with only a integer number.\n",
      "    human reference: i prefer a large sized shirt\n",
      "    machine translation: i prefer a size large shirt\n",
      "    Score:assistant\n",
      "\n",
      "4\n",
      "Generated response:\n",
      "4\n",
      "===\n",
      "\n",
      "[{'role': 'system', 'content': 'You are an NLP evaluation assistant.'}, {'role': 'user', 'content': 'Compare the meaning of machine translation sentence with respect to human reference and score the machine translation on a continuous scale 0 to 5 where score of 0 means \"no meaning preserved\" and score of 5 means \"perfect meaning preserved\". Respond with only a integer number.\\n    human reference: my street has not been plowed yet\\n    machine translation: my street is not plowed\\n    Score:'}]\n",
      "Full response (including prompt):\n",
      "system\n",
      "\n",
      "Cutting Knowledge Date: December 2023\n",
      "Today Date: 27 Mar 2025\n",
      "\n",
      "You are an NLP evaluation assistant.user\n",
      "\n",
      "Compare the meaning of machine translation sentence with respect to human reference and score the machine translation on a continuous scale 0 to 5 where score of 0 means \"no meaning preserved\" and score of 5 means \"perfect meaning preserved\". Respond with only a integer number.\n",
      "    human reference: my street has not been plowed yet\n",
      "    machine translation: my street is not plowed\n",
      "    Score:assistant\n",
      "\n",
      "4\n",
      "Generated response:\n",
      "4\n",
      "===\n",
      "\n"
     ]
    }
   ],
   "source": [
    "reference_segs = [\n",
    "    \"relax on couch and watch cartoons\",\n",
    "    \"i prefer a large sized shirt\",\n",
    "    \"my street has not been plowed yet\"\n",
    "]\n",
    "target_segs = [\n",
    "    \"relax on couch and watch a cartoon\",\n",
    "    \"i prefer a size large shirt\",\n",
    "    \"my street is not plowed\"\n",
    "]\n",
    "\n",
    "for reference_seg, target_seg in zip(reference_segs, target_segs):\n",
    "\n",
    "    prompt = f\"\"\"Compare the meaning of machine translation sentence with respect to human reference and score the machine translation on a continuous scale 0 to 5 where score of 0 means \"no meaning preserved\" and score of 5 means \"perfect meaning preserved\". Respond with only a integer number.\n",
    "    human reference: {reference_seg}\n",
    "    machine translation: {target_seg}\n",
    "    Score:\"\"\"\n",
    "\n",
    "    messages = [\n",
    "        {\"role\": \"system\", \"content\": \"You are an NLP evaluation assistant.\"},\n",
    "        {\"role\": \"user\", \"content\": prompt}\n",
    "    ]\n",
    "    print(messages)\n",
    "    tokenize_generate_response(tokenizer, model, generation_config,messages)\n",
    "    print(\"===\\n\")"
   ]
  }
 ],
 "metadata": {
  "kernelspec": {
   "display_name": "mlenv2",
   "language": "python",
   "name": "python3"
  },
  "language_info": {
   "codemirror_mode": {
    "name": "ipython",
    "version": 3
   },
   "file_extension": ".py",
   "mimetype": "text/x-python",
   "name": "python",
   "nbconvert_exporter": "python",
   "pygments_lexer": "ipython3",
   "version": "3.9.19"
  }
 },
 "nbformat": 4,
 "nbformat_minor": 2
}

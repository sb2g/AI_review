{
 "cells": [
  {
   "cell_type": "markdown",
   "metadata": {},
   "source": [
    "##### What is this notebook about?\n",
    "- This notebook shows different ways to tokenize an NLP text. \n",
    "- Tokenization concept:\n",
    "    - Converts raw text to numbers for the model\n",
    "    - Typical steps involve:\n",
    "        - Normalization: Remove accents, punctuations, etc if needed.\n",
    "        - Pre-tokenization: Split sentence into words on space/punctuations, etc.\n",
    "        - Tokenizer model: Converts into tokens using different algorithms\n",
    "            - These are the types of tokenizers:\n",
    "                - Character level tokenizers\n",
    "                - Word level tokenizers \n",
    "                - Subword tokenizers\n",
    "        - Post-processing: Add extra tokens like [CLS], [SEP], etc if needed.\n",
    "- The following tokenizers are covered in this notebook:\n",
    "    - Subword tokenizers\n",
    "        - Byte Pair Encoding (from OpenAI)\n",
    "            - Implemented in tiktoken library, huggingface transformers\n",
    "            - Used in GPT models, Llama 3\n",
    "        - WordPiece tokenization (from Google)\n",
    "            - BertTokenizer\n",
    "        - Unigram tokenization (implemented in SentencePiece from Google) \n",
    "            - XLNetTokenizer\n",
    "            - Also used in Llama 2\n",
    "    - Word level tokenizers \n",
    "        - nltk\n",
    "        - spaCy torchtext's get_tokenizer\n"
   ]
  },
  {
   "cell_type": "markdown",
   "metadata": {},
   "source": [
    "#### Note on special tokens\n",
    "- Some tokenizers use special tokens to help the LLM with additional context. Some of these special tokens are\n",
    "    - `[BOS]` (beginning of sequence) marks the beginning of text\n",
    "    - `[EOS]` (end of sequence) marks where the text ends (this is usually used to concatenate multiple unrelated texts, e.g., two different Wikipedia articles or two different books, and so on)\n",
    "    - `[PAD]` (padding) if we train LLMs with a batch size greater than 1 (we may include multiple texts with different lengths; with the padding token we pad the shorter texts to the longest length so that all texts have an equal length)\n",
    "    - `[UNK]` to represent words that are not included in the vocabulary\n",
    "        - In word-level tokenizers, we can add special tokens like `[UNK]` or `\"<|unk|>\"` to the vocabulary to represent unknown words that are not in the training data vocabulary. Sub-word tokenizers do not user this token, since they break down all words (including unknown words) into subword units.\n",
    "\n",
    "- GPT-2 does not need any of these tokens mentioned above but only uses an `<|endoftext|>` token to reduce complexity. The token `\"<|endoftext|>\"` is similar to `[EOS]` token:\n",
    "    - its used to denote the end of a text \n",
    "    - its also used between concatenated text, like if our training datasets consists of multiple articles, books, etc.\n",
    "    - its also used for padding (since we typically use a mask when training on batched inputs, we would not attend padded tokens anyways, so it does not matter what these tokens are)"
   ]
  },
  {
   "cell_type": "markdown",
   "metadata": {},
   "source": [
    "### Text samples to test tokenizers"
   ]
  },
  {
   "cell_type": "code",
   "execution_count": null,
   "metadata": {},
   "outputs": [
    {
     "name": "stdout",
     "output_type": "stream",
     "text": [
      "Total number of character: 20479\n",
      "I HAD always thought Jack Gisburn rather a cheap genius--though a good fellow enough--so it was no \n"
     ]
    }
   ],
   "source": [
    "# Using a sample text file\n",
    "with open(\"../data/the-verdict.txt\", \"r\", encoding=\"utf-8\") as f:\n",
    "    raw_text = f.read()\n",
    "    \n",
    "print(\"Total number of character:\", len(raw_text))\n",
    "print(raw_text[:99])"
   ]
  },
  {
   "cell_type": "code",
   "execution_count": 2,
   "metadata": {},
   "outputs": [
    {
     "name": "stdout",
     "output_type": "stream",
     "text": [
      "Total number of character: 48\n"
     ]
    }
   ],
   "source": [
    "text = \"Hello, LLM. Shall we tokenize a sample sentence?\"\n",
    "print(\"Total number of character:\", len(text))"
   ]
  },
  {
   "cell_type": "markdown",
   "metadata": {},
   "source": [
    "### BPE (from OpenAI) - tiktoken library \n",
    "- Used by GPT-2, Llama 3, etc."
   ]
  },
  {
   "cell_type": "code",
   "execution_count": 3,
   "metadata": {},
   "outputs": [],
   "source": [
    "import tiktoken"
   ]
  },
  {
   "cell_type": "code",
   "execution_count": 4,
   "metadata": {},
   "outputs": [
    {
     "name": "stdout",
     "output_type": "stream",
     "text": [
      "<Encoding 'gpt2'>\n",
      "<Encoding 'cl100k_base'>\n",
      "<Encoding 'o200k_base'>\n"
     ]
    }
   ],
   "source": [
    "for model in [\"gpt2\", \"gpt-4\", \"gpt-4o\"]:\n",
    "    print(tiktoken.encoding_for_model(model))"
   ]
  },
  {
   "cell_type": "code",
   "execution_count": 5,
   "metadata": {},
   "outputs": [
    {
     "name": "stdout",
     "output_type": "stream",
     "text": [
      "[15496, 11, 27140, 44, 13, 38451, 356, 11241, 1096, 257, 6291, 6827, 30]\n",
      "Hello, LLM. Shall we tokenize a sample sentence?\n",
      "50257\n",
      "50256\n"
     ]
    }
   ],
   "source": [
    "tt_bpe_tokenizer = tiktoken.get_encoding(\"gpt2\")\n",
    "\n",
    "token_ids = tt_bpe_tokenizer.encode(text, allowed_special={\"<|endoftext|>\"})\n",
    "print(token_ids)\n",
    "\n",
    "text_out = tt_bpe_tokenizer.decode(token_ids)\n",
    "print(text_out)\n",
    "\n",
    "print(tt_bpe_tokenizer.n_vocab)\n",
    "print(tt_bpe_tokenizer.eot_token)\n",
    "\n"
   ]
  },
  {
   "cell_type": "markdown",
   "metadata": {},
   "source": [
    "### BPE (from OpenAI) - Hugging face API"
   ]
  },
  {
   "cell_type": "code",
   "execution_count": 6,
   "metadata": {},
   "outputs": [
    {
     "name": "stderr",
     "output_type": "stream",
     "text": [
      "/home/sbujimal/miniforge3/envs/mlenv2/lib/python3.9/site-packages/tqdm/auto.py:21: TqdmWarning: IProgress not found. Please update jupyter and ipywidgets. See https://ipywidgets.readthedocs.io/en/stable/user_install.html\n",
      "  from .autonotebook import tqdm as notebook_tqdm\n"
     ]
    }
   ],
   "source": [
    "from transformers import GPT2Tokenizer, GPT2TokenizerFast"
   ]
  },
  {
   "cell_type": "code",
   "execution_count": 7,
   "metadata": {},
   "outputs": [
    {
     "name": "stdout",
     "output_type": "stream",
     "text": [
      "{'input_ids': [15496, 11, 27140, 44, 13, 38451, 356, 11241, 1096, 257, 6291, 6827, 30], 'attention_mask': [1, 1, 1, 1, 1, 1, 1, 1, 1, 1, 1, 1, 1]}\n",
      "Hello, LLM. Shall we tokenize a sample sentence?\n"
     ]
    }
   ],
   "source": [
    "hf_bpe_tokenizer = GPT2Tokenizer.from_pretrained(\"gpt2\") \n",
    "\n",
    "token_ids = hf_bpe_tokenizer(text)\n",
    "print(token_ids)\n",
    "\n",
    "text_out = hf_bpe_tokenizer.decode(token_ids['input_ids'])\n",
    "print(text_out)"
   ]
  },
  {
   "cell_type": "code",
   "execution_count": 8,
   "metadata": {},
   "outputs": [
    {
     "name": "stdout",
     "output_type": "stream",
     "text": [
      "{'input_ids': [15496, 11, 27140, 44, 13, 38451, 356, 11241, 1096, 257, 6291, 6827, 30], 'attention_mask': [1, 1, 1, 1, 1, 1, 1, 1, 1, 1, 1, 1, 1]}\n",
      "Hello, LLM. Shall we tokenize a sample sentence?\n"
     ]
    }
   ],
   "source": [
    "# Fast\n",
    "\n",
    "hf_bpe_tokenizer_fast = GPT2TokenizerFast.from_pretrained(\"gpt2\")\n",
    "\n",
    "token_ids = hf_bpe_tokenizer_fast(text)\n",
    "print(token_ids)\n",
    "\n",
    "text_out = hf_bpe_tokenizer_fast.decode(token_ids['input_ids'])\n",
    "print(text_out)"
   ]
  },
  {
   "cell_type": "markdown",
   "metadata": {},
   "source": [
    "### Performance comparison"
   ]
  },
  {
   "cell_type": "code",
   "execution_count": 9,
   "metadata": {},
   "outputs": [
    {
     "name": "stdout",
     "output_type": "stream",
     "text": [
      "1.35 ms ± 4.65 µs per loop (mean ± std. dev. of 7 runs, 1,000 loops each)\n"
     ]
    }
   ],
   "source": [
    "%timeit tt_bpe_tokenizer.encode(raw_text)"
   ]
  },
  {
   "cell_type": "code",
   "execution_count": 10,
   "metadata": {},
   "outputs": [
    {
     "name": "stderr",
     "output_type": "stream",
     "text": [
      "Token indices sequence length is longer than the specified maximum sequence length for this model (5145 > 1024). Running this sequence through the model will result in indexing errors\n"
     ]
    },
    {
     "name": "stdout",
     "output_type": "stream",
     "text": [
      "20.1 ms ± 38.4 µs per loop (mean ± std. dev. of 7 runs, 100 loops each)\n"
     ]
    }
   ],
   "source": [
    "%timeit hf_bpe_tokenizer(raw_text)"
   ]
  },
  {
   "cell_type": "code",
   "execution_count": 11,
   "metadata": {},
   "outputs": [
    {
     "name": "stderr",
     "output_type": "stream",
     "text": [
      "Token indices sequence length is longer than the specified maximum sequence length for this model (5145 > 1024). Running this sequence through the model will result in indexing errors\n"
     ]
    },
    {
     "name": "stdout",
     "output_type": "stream",
     "text": [
      "6.34 ms ± 3.92 µs per loop (mean ± std. dev. of 7 runs, 100 loops each)\n"
     ]
    }
   ],
   "source": [
    "%timeit hf_bpe_tokenizer_fast(raw_text)"
   ]
  },
  {
   "cell_type": "markdown",
   "metadata": {},
   "source": [
    "### Word tokenizer"
   ]
  },
  {
   "cell_type": "code",
   "execution_count": null,
   "metadata": {},
   "outputs": [],
   "source": []
  },
  {
   "cell_type": "markdown",
   "metadata": {},
   "source": [
    "### References:\n",
    "\n",
    "> https://github.com/rasbt/LLMs-from-scratch\n",
    "\n",
    "> https://www.coursera.org/specializations/generative-ai-engineering-with-llms\n"
   ]
  },
  {
   "cell_type": "markdown",
   "metadata": {},
   "source": []
  }
 ],
 "metadata": {
  "kernelspec": {
   "display_name": "mlenv2",
   "language": "python",
   "name": "python3"
  },
  "language_info": {
   "codemirror_mode": {
    "name": "ipython",
    "version": 3
   },
   "file_extension": ".py",
   "mimetype": "text/x-python",
   "name": "python",
   "nbconvert_exporter": "python",
   "pygments_lexer": "ipython3",
   "version": "3.9.19"
  }
 },
 "nbformat": 4,
 "nbformat_minor": 2
}

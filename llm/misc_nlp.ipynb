{
 "cells": [
  {
   "cell_type": "markdown",
   "metadata": {},
   "source": [
    "##### What is this notebook about?\n",
    "- This notebook has some miscellaneous NLP functions \n"
   ]
  },
  {
   "cell_type": "code",
   "execution_count": 1,
   "metadata": {},
   "outputs": [
    {
     "name": "stdout",
     "output_type": "stream",
     "text": [
      "that\n"
     ]
    }
   ],
   "source": [
    "# Basic string funcs\n",
    "\n",
    "word = \"that\"\n",
    "if word.endswith(\".\"): \n",
    "    print(\"yes\")\n",
    "\n",
    "word = word.lower()\n",
    "print(word)"
   ]
  },
  {
   "cell_type": "code",
   "execution_count": 2,
   "metadata": {},
   "outputs": [
    {
     "name": "stdout",
     "output_type": "stream",
     "text": [
      "holiday\n"
     ]
    }
   ],
   "source": [
    "# Inflect to get singular, number\n",
    "\n",
    "import inflect\n",
    "inflect_eng = inflect.engine()\n",
    "\n",
    "plural_word = \"holidays\"\n",
    "singular_word = inflect_eng.singular_noun(plural_word)\n",
    "print(singular_word)"
   ]
  },
  {
   "cell_type": "code",
   "execution_count": 3,
   "metadata": {},
   "outputs": [
    {
     "data": {
      "text/plain": [
       "['where is home ?',\n",
       " 'where is home',\n",
       " 'where ?',\n",
       " 'where',\n",
       " ' ?',\n",
       " 'where is home ? where is home ?']"
      ]
     },
     "execution_count": 3,
     "metadata": {},
     "output_type": "execute_result"
    }
   ],
   "source": [
    "# Regex negative lookbehind assertion\n",
    "\n",
    "import re\n",
    "\n",
    "examples = [\n",
    "'where is home?',\n",
    "'where is home',\n",
    "'where?',\n",
    "'where',\n",
    "'?',\n",
    "'where is home? where is home?'\n",
    "]\n",
    "#examples = [re.sub(r'(?<!\\s)\\?', ' ?', e) if len(e) > 1 else e for e in examples]  \n",
    "examples = [re.sub(r'(?<!\\s)\\?', ' ?', e) for e in examples]  \n",
    "examples"
   ]
  }
 ],
 "metadata": {
  "kernelspec": {
   "display_name": "mlenv2",
   "language": "python",
   "name": "python3"
  },
  "language_info": {
   "codemirror_mode": {
    "name": "ipython",
    "version": 3
   },
   "file_extension": ".py",
   "mimetype": "text/x-python",
   "name": "python",
   "nbconvert_exporter": "python",
   "pygments_lexer": "ipython3",
   "version": "3.9.19"
  }
 },
 "nbformat": 4,
 "nbformat_minor": 2
}

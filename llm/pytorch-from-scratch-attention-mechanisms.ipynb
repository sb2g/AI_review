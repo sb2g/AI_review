{
 "cells": [
  {
   "cell_type": "code",
   "execution_count": 1,
   "metadata": {},
   "outputs": [
    {
     "name": "stdout",
     "output_type": "stream",
     "text": [
      "2.4.0\n"
     ]
    },
    {
     "data": {
      "text/plain": [
       "<torch._C.Generator at 0x74f3f22cb390>"
      ]
     },
     "execution_count": 1,
     "metadata": {},
     "output_type": "execute_result"
    }
   ],
   "source": [
    "import torch\n",
    "import torch.nn as nn\n",
    "\n",
    "print(torch.__version__)\n",
    "\n",
    "torch.manual_seed(123)"
   ]
  },
  {
   "cell_type": "markdown",
   "metadata": {},
   "source": [
    "### Basic torch functions"
   ]
  },
  {
   "cell_type": "code",
   "execution_count": 2,
   "metadata": {},
   "outputs": [
    {
     "name": "stdout",
     "output_type": "stream",
     "text": [
      "torch.Size([3, 4])\n"
     ]
    }
   ],
   "source": [
    "x = torch.tensor(\n",
    "    [[0.11, 0.12, 0.13, 0.14],\n",
    "     [0.21, 0.22, 0.23, 0.24],\n",
    "     [0.31, 0.32, 0.33, 0.34]]\n",
    ")\n",
    "print(x.shape)"
   ]
  },
  {
   "cell_type": "code",
   "execution_count": 3,
   "metadata": {},
   "outputs": [
    {
     "data": {
      "text/plain": [
       "(tensor([[ 2.3822e-44,  4.7429e+30, -5.0954e+13,  3.1207e-41],\n",
       "         [-5.0951e+13,  3.1207e-41,  0.0000e+00,  0.0000e+00],\n",
       "         [ 1.4013e-45,  0.0000e+00,  1.4013e-45,  2.8026e-44]]),\n",
       " tensor([[0., 0., 0., 0.],\n",
       "         [0., 0., 0., 0.],\n",
       "         [0., 0., 0., 0.]]),\n",
       " tensor([[1., 1., 1., 1.],\n",
       "         [1., 1., 1., 1.],\n",
       "         [1., 1., 1., 1.]]),\n",
       " tensor([[0.2961, 0.5166, 0.2517, 0.6886],\n",
       "         [0.0740, 0.8665, 0.1366, 0.1025],\n",
       "         [0.1841, 0.7264, 0.3153, 0.6871]]))"
      ]
     },
     "execution_count": 3,
     "metadata": {},
     "output_type": "execute_result"
    }
   ],
   "source": [
    "torch.empty(x.shape), torch.zeros(x.shape), torch.ones(x.shape), torch.rand(x.shape)"
   ]
  },
  {
   "cell_type": "code",
   "execution_count": 4,
   "metadata": {},
   "outputs": [
    {
     "data": {
      "text/plain": [
       "(tensor([[1., 1., 0.],\n",
       "         [1., 1., 1.],\n",
       "         [1., 1., 1.]]),\n",
       " tensor([[0., 1., 1.],\n",
       "         [0., 0., 1.],\n",
       "         [0., 0., 0.]]))"
      ]
     },
     "execution_count": 4,
     "metadata": {},
     "output_type": "execute_result"
    }
   ],
   "source": [
    "torch.tril(torch.ones(3,3), diagonal=1), torch.triu(torch.ones(3,3), diagonal=1),"
   ]
  },
  {
   "cell_type": "code",
   "execution_count": 5,
   "metadata": {},
   "outputs": [
    {
     "data": {
      "text/plain": [
       "tensor([[0.2200, 0.2400, 0.2600, 0.2800],\n",
       "        [0.2333, 0.2444, 0.2556, 0.2667],\n",
       "        [0.2385, 0.2462, 0.2538, 0.2615]])"
      ]
     },
     "execution_count": 5,
     "metadata": {},
     "output_type": "execute_result"
    }
   ],
   "source": [
    "# How to normalize x along each row\n",
    "x / x.sum(dim=1, keepdim=True) # or.view(x.shape[0], 1)\n"
   ]
  },
  {
   "cell_type": "code",
   "execution_count": 6,
   "metadata": {},
   "outputs": [
    {
     "name": "stdout",
     "output_type": "stream",
     "text": [
      "tensor(0.1130)\n"
     ]
    },
    {
     "data": {
      "text/plain": [
       "tensor(0.1130)"
      ]
     },
     "execution_count": 6,
     "metadata": {},
     "output_type": "execute_result"
    }
   ],
   "source": [
    "# Dot product\n",
    "\n",
    "res = 0\n",
    "for ix in range(len(x[0])):\n",
    "    res += x[0][ix] * x[1][ix]\n",
    "print(res)\n",
    "\n",
    "torch.dot(x[0], x[1])"
   ]
  },
  {
   "cell_type": "code",
   "execution_count": 7,
   "metadata": {},
   "outputs": [
    {
     "name": "stdout",
     "output_type": "stream",
     "text": [
      "tensor([[0.0630, 0.1130, 0.1630],\n",
      "        [0.1130, 0.2030, 0.2930],\n",
      "        [0.1630, 0.2930, 0.4230]])\n"
     ]
    },
    {
     "data": {
      "text/plain": [
       "tensor([[0.0630, 0.1130, 0.1630],\n",
       "        [0.1130, 0.2030, 0.2930],\n",
       "        [0.1630, 0.2930, 0.4230]])"
      ]
     },
     "execution_count": 7,
     "metadata": {},
     "output_type": "execute_result"
    }
   ],
   "source": [
    "# Matrix dot product\n",
    "\n",
    "att = torch.empty(len(x), len(x))\n",
    "for ix1 in range(len(x)):\n",
    "    for ix2 in range(len(x)):\n",
    "        att[ix1, ix2] = torch.dot(x[ix1], x[ix2])\n",
    "print(att)\n",
    "\n",
    "x @ x.T\n",
    "\n"
   ]
  },
  {
   "cell_type": "code",
   "execution_count": 8,
   "metadata": {},
   "outputs": [
    {
     "name": "stdout",
     "output_type": "stream",
     "text": [
      "tensor([[0.3168, 0.3331, 0.3501],\n",
      "        [0.3038, 0.3324, 0.3637],\n",
      "        [0.2911, 0.3315, 0.3775]])\n"
     ]
    }
   ],
   "source": [
    "# Softmax \n",
    "\n",
    "def softmax_custom(x):\n",
    "    return torch.exp(x) / torch.exp(x).sum(dim=1, keepdim=True) # or .view(x.shape[0], 1)\n",
    "print(softmax_custom(att))\n",
    "\n",
    "att_w = torch.softmax(att, dim=-1)"
   ]
  },
  {
   "cell_type": "code",
   "execution_count": 9,
   "metadata": {},
   "outputs": [
    {
     "name": "stdout",
     "output_type": "stream",
     "text": [
      "torch.Size([3, 3]) torch.Size([3, 4])\n",
      "torch.Size([3, 4])\n",
      "tensor([[0.2133, 0.2233, 0.2333, 0.2433],\n",
      "        [0.2160, 0.2260, 0.2360, 0.2460],\n",
      "        [0.2186, 0.2286, 0.2386, 0.2486]])\n"
     ]
    },
    {
     "data": {
      "text/plain": [
       "tensor([[0.2133, 0.2233, 0.2333, 0.2433],\n",
       "        [0.2160, 0.2260, 0.2360, 0.2460],\n",
       "        [0.2186, 0.2286, 0.2386, 0.2486]])"
      ]
     },
     "execution_count": 9,
     "metadata": {},
     "output_type": "execute_result"
    }
   ],
   "source": [
    "# Contextual vectors: Multiply att_w with x\n",
    "\n",
    "print(att_w.shape, x.shape)\n",
    "\n",
    "ctx = torch.zeros(*x.shape)\n",
    "print(ctx.shape)\n",
    "for ix1 in range(x.shape[0]):\n",
    "    for ix2 in range(att_w.shape[1]):\n",
    "        ctx[ix1] += att_w[ix1, ix2] * x[ix2]\n",
    "print(ctx)\n",
    "\n",
    "ctx = att_w @ x\n",
    "ctx"
   ]
  },
  {
   "cell_type": "markdown",
   "metadata": {},
   "source": [
    "### Self attention - Basic\n",
    "- No trainable parameters"
   ]
  },
  {
   "cell_type": "code",
   "execution_count": 10,
   "metadata": {},
   "outputs": [
    {
     "name": "stdout",
     "output_type": "stream",
     "text": [
      "torch.Size([3, 4]) torch.Size([3, 3]) torch.Size([3, 4])\n",
      "tensor([[0.2133, 0.2233, 0.2333, 0.2433],\n",
      "        [0.2160, 0.2260, 0.2360, 0.2460],\n",
      "        [0.2186, 0.2286, 0.2386, 0.2486]])\n"
     ]
    }
   ],
   "source": [
    "# In short\n",
    "att = x @ x.T\n",
    "att = torch.softmax(att, dim=-1)\n",
    "ctx = att @ x\n",
    "print(x.shape, att.shape, ctx.shape)\n",
    "print(ctx)"
   ]
  },
  {
   "cell_type": "markdown",
   "metadata": {},
   "source": [
    "### Self attention - Option 1\n",
    "- With trainable weight parameters\n",
    "- Using torch.nn.Parameter"
   ]
  },
  {
   "cell_type": "code",
   "execution_count": 11,
   "metadata": {},
   "outputs": [
    {
     "name": "stdout",
     "output_type": "stream",
     "text": [
      "torch.Size([3, 3]) tensor([[0.3725, 0.5042, 0.3365],\n",
      "        [0.3807, 0.5154, 0.3438],\n",
      "        [0.3888, 0.5264, 0.3510]])\n"
     ]
    }
   ],
   "source": [
    "class SelfAttn1(nn.Module):\n",
    "    def __init__(self, din, d):\n",
    "        super().__init__()\n",
    "        self.wq = nn.Parameter(torch.rand(din, d), requires_grad=False)\n",
    "        self.wk = nn.Parameter(torch.rand(din, d), requires_grad=False) \n",
    "        self.wv = nn.Parameter(torch.rand(din, d), requires_grad=False)  \n",
    "\n",
    "    def forward(self, x):\n",
    "        q, k, v = x @ self.wq, x @ self.wk, x @ self.wv\n",
    "        att = q @ k.T\n",
    "        att = torch.softmax(att / k.shape[-1]**0.5, dim=-1)\n",
    "        ctx = att @ v\n",
    "        return ctx\n",
    "\n",
    "din = x.shape[1]\n",
    "d = 3\n",
    "sa_layer = SelfAttn1(din, d)\n",
    "ctx = sa_layer(x)\n",
    "print(ctx.shape, ctx)"
   ]
  },
  {
   "cell_type": "markdown",
   "metadata": {},
   "source": [
    "### Self attention - Option 2\n",
    "- With trainable weight parameters\n",
    "- Using torch.nn.Linear"
   ]
  },
  {
   "cell_type": "code",
   "execution_count": 12,
   "metadata": {},
   "outputs": [
    {
     "name": "stdout",
     "output_type": "stream",
     "text": [
      "torch.Size([3, 3]) tensor([[-0.1125,  0.0133,  0.0639],\n",
      "        [-0.1124,  0.0133,  0.0639],\n",
      "        [-0.1123,  0.0133,  0.0638]], grad_fn=<MmBackward0>)\n"
     ]
    }
   ],
   "source": [
    "# torch.nn.Linear has better weight initialization\n",
    "\n",
    "class SelfAttn2(nn.Module):\n",
    "    def __init__(self, din, d, bias=False):\n",
    "        super().__init__()\n",
    "        self.wq = nn.Linear(din, d, bias=bias)\n",
    "        self.wk = nn.Linear(din, d, bias=bias) \n",
    "        self.wv = nn.Linear(din, d, bias=bias)  \n",
    "\n",
    "    def forward(self, x):\n",
    "        q, k, v = self.wq(x), self.wk(x), self.wv(x)\n",
    "        att = q @ k.T\n",
    "        att = torch.softmax(att / k.shape[-1]**0.5, dim=-1)\n",
    "        ctx = att @ v\n",
    "        return ctx\n",
    "\n",
    "din = x.shape[1]\n",
    "d = 3\n",
    "sa_layer = SelfAttn2(din, d)\n",
    "ctx = sa_layer(x)\n",
    "print(ctx.shape, ctx)"
   ]
  },
  {
   "cell_type": "code",
   "execution_count": 13,
   "metadata": {},
   "outputs": [
    {
     "name": "stdout",
     "output_type": "stream",
     "text": [
      "torch.Size([3, 3])\n",
      "tensor([[-0.0073, -0.0117, -0.0160],\n",
      "        [-0.0135, -0.0217, -0.0298],\n",
      "        [-0.0197, -0.0317, -0.0436]], grad_fn=<MmBackward0>)\n",
      "tensor([[0.3342, 0.3333, 0.3325],\n",
      "        [0.3349, 0.3333, 0.3318],\n",
      "        [0.3356, 0.3333, 0.3310]], grad_fn=<SoftmaxBackward0>)\n"
     ]
    }
   ],
   "source": [
    "# Self attn forward internals for experiments below\n",
    "\n",
    "q, k, v = sa_layer.wq(x), sa_layer.wk(x), sa_layer.wv(x)\n",
    "att_orig = q @ k.T\n",
    "att = torch.softmax( att_orig / k.shape[-1]**0.5, dim=-1)\n",
    "ctx = att @ v\n",
    "\n",
    "print(att.shape)\n",
    "print(att_orig)\n",
    "print(att)"
   ]
  },
  {
   "cell_type": "markdown",
   "metadata": {},
   "source": [
    "### Dropout"
   ]
  },
  {
   "cell_type": "code",
   "execution_count": 14,
   "metadata": {},
   "outputs": [
    {
     "name": "stdout",
     "output_type": "stream",
     "text": [
      "tensor([[1., 1., 1., 1.],\n",
      "        [1., 1., 1., 1.],\n",
      "        [1., 1., 1., 1.],\n",
      "        [1., 1., 1., 1.]])\n",
      "Dropout scales non dropout nodes by: 1.25\n",
      "tensor([[1.2500, 1.2500, 0.0000, 1.2500],\n",
      "        [0.0000, 0.0000, 1.2500, 1.2500],\n",
      "        [1.2500, 1.2500, 1.2500, 1.2500],\n",
      "        [1.2500, 1.2500, 0.0000, 1.2500]])\n"
     ]
    }
   ],
   "source": [
    "dropout = torch.nn.Dropout(0.2)\n",
    "\n",
    "y = torch.ones(4, 4)\n",
    "print(y)\n",
    "\n",
    "print(\"Dropout scales non dropout nodes by:\", 1/(1-0.2))\n",
    "\n",
    "print(dropout(y))"
   ]
  },
  {
   "cell_type": "markdown",
   "metadata": {
    "vscode": {
     "languageId": "plaintext"
    }
   },
   "source": [
    "### Causal attention - Option 1\n",
    "- Apply mask after Softmax"
   ]
  },
  {
   "cell_type": "code",
   "execution_count": 15,
   "metadata": {},
   "outputs": [
    {
     "name": "stdout",
     "output_type": "stream",
     "text": [
      "tensor([[1., 0., 0.],\n",
      "        [1., 1., 0.],\n",
      "        [1., 1., 1.]])\n",
      "tensor([[0.3342, 0.0000, 0.0000],\n",
      "        [0.3349, 0.3333, 0.0000],\n",
      "        [0.3356, 0.3333, 0.3310]], grad_fn=<MulBackward0>)\n",
      "tensor([[1.0000, 0.0000, 0.0000],\n",
      "        [0.5012, 0.4988, 0.0000],\n",
      "        [0.3356, 0.3333, 0.3310]], grad_fn=<DivBackward0>)\n"
     ]
    }
   ],
   "source": [
    "att_len = att.shape[0]\n",
    "att_mask = torch.tril(torch.ones(att_len, att_len))\n",
    "att = att * att_mask\n",
    "print(att_mask)\n",
    "print(att)\n",
    "\n",
    "# Need to normalize again\n",
    "att = att / att.sum(dim=-1, keepdim=True)\n",
    "print(att)"
   ]
  },
  {
   "cell_type": "markdown",
   "metadata": {},
   "source": [
    "### Causal attention - Option 2 (preferred)\n",
    "- Apply mask before Softmax (no need to re-normalize)\n"
   ]
  },
  {
   "cell_type": "code",
   "execution_count": 16,
   "metadata": {},
   "outputs": [
    {
     "name": "stdout",
     "output_type": "stream",
     "text": [
      "tensor([[0., 1., 1.],\n",
      "        [0., 0., 1.],\n",
      "        [0., 0., 0.]])\n",
      "tensor([[-0.0073,    -inf,    -inf],\n",
      "        [-0.0135, -0.0217,    -inf],\n",
      "        [-0.0197, -0.0317, -0.0436]], grad_fn=<MaskedFillBackward0>)\n",
      "tensor([[1.0000, 0.0000, 0.0000],\n",
      "        [0.5012, 0.4988, 0.0000],\n",
      "        [0.3356, 0.3333, 0.3310]], grad_fn=<SoftmaxBackward0>)\n"
     ]
    }
   ],
   "source": [
    "att_len = att_orig.shape[0]\n",
    "att_mask = torch.triu(torch.ones(att_len, att_len), diagonal=1)\n",
    "att = att_orig.masked_fill(att_mask.bool(), -torch.inf)\n",
    "print(att_mask)\n",
    "print(att)\n",
    " \n",
    "# Apply softmax (first time)\n",
    "att = torch.softmax(att / k.shape[-1]**0.5, dim=-1)\n",
    "print(att)\n",
    "\n"
   ]
  },
  {
   "cell_type": "markdown",
   "metadata": {},
   "source": [
    "### Causal attention - Support batch inputs + Pytorch buffers \n",
    "- Batch inputs on dimension 0\n",
    "- Using Pytorch buffers for attention mask\n",
    "    - Saved in model state_dict()\n",
    "    - Also gets transferred todevice along with model"
   ]
  },
  {
   "cell_type": "code",
   "execution_count": 17,
   "metadata": {},
   "outputs": [
    {
     "name": "stdout",
     "output_type": "stream",
     "text": [
      "torch.Size([2, 3, 3]) tensor([[[ 0.0501, -0.0684,  0.0670],\n",
      "         [ 0.0699, -0.0939,  0.0947],\n",
      "         [ 0.0897, -0.1196,  0.1226]],\n",
      "\n",
      "        [[ 0.0501, -0.0684,  0.0670],\n",
      "         [ 0.0699, -0.0939,  0.0947],\n",
      "         [ 0.0897, -0.1196,  0.1226]]], grad_fn=<UnsafeViewBackward0>)\n",
      "OrderedDict([('att_mask', tensor([[0., 1., 1., 1., 1., 1.],\n",
      "        [0., 0., 1., 1., 1., 1.],\n",
      "        [0., 0., 0., 1., 1., 1.],\n",
      "        [0., 0., 0., 0., 1., 1.],\n",
      "        [0., 0., 0., 0., 0., 1.],\n",
      "        [0., 0., 0., 0., 0., 0.]])), ('wq.weight', tensor([[-0.1889, -0.3045,  0.4153,  0.2751],\n",
      "        [ 0.1749, -0.3834,  0.3858,  0.1568],\n",
      "        [ 0.3459, -0.1967,  0.1060,  0.4882]])), ('wk.weight', tensor([[ 0.3363,  0.4010, -0.1050,  0.3809],\n",
      "        [-0.3916,  0.0432, -0.2815, -0.1166],\n",
      "        [-0.1280,  0.0374,  0.4551,  0.2475]])), ('wv.weight', tensor([[-0.0021,  0.3549, -0.2562,  0.2577],\n",
      "        [-0.0464, -0.0870,  0.0585, -0.3830],\n",
      "        [ 0.0578,  0.1681,  0.4275, -0.1557]]))])\n",
      "<class 'torch.Tensor'> cpu\n"
     ]
    }
   ],
   "source": [
    "class CausalAttn(nn.Module):\n",
    "    def __init__(self, din, dim, ctx_len, dropout, bias=False):\n",
    "        super().__init__()\n",
    "        self.wq = nn.Linear(din, dim, bias=bias)\n",
    "        self.wk = nn.Linear(din, dim, bias=bias) \n",
    "        self.wv = nn.Linear(din, dim, bias=bias)  \n",
    "        self.dropout = nn.Dropout(dropout)\n",
    "        # att mask as regular tensor\n",
    "        # self.att_mask = torch.triu(torch.ones(ctx_len, ctx_len), diagonal=1)\n",
    "        # att mask as pytorch buffer\n",
    "        self.register_buffer('att_mask', torch.triu(torch.ones(ctx_len, ctx_len), diagonal=1))\n",
    "\n",
    "    def forward(self, x):\n",
    "        bs, seq_len, din = x.shape\n",
    "        q, k, v = self.wq(x), self.wk(x), self.wv(x)\n",
    "        att = q @ k.transpose(1, 2)\n",
    "        att_mask = self.att_mask.bool()[:seq_len, :seq_len] # Select mask for seq_len & bool\n",
    "        att.masked_fill_(att_mask, -torch.inf)      \n",
    "        att = torch.softmax(att / k.shape[-1]**0.5, dim=-1)\n",
    "        att = self.dropout(att)\n",
    "        ctx = att @ v\n",
    "        return ctx\n",
    "\n",
    "batch_x = torch.stack((x, x), dim=0) # Create a batch of input\n",
    "din = batch_x.shape[2] # Input dim\n",
    "dim = 3 # dim of att layer embeddings\n",
    "ctx_len = 6 # Max ctx length supported\n",
    "ca_layer = CausalAttn(din, dim, ctx_len, 0.1)\n",
    "ctx = ca_layer(batch_x)\n",
    "\n",
    "print(ctx.shape, ctx)\n",
    "print(ca_layer.state_dict())\n",
    "print(type(ca_layer.att_mask), ca_layer.att_mask.device)"
   ]
  },
  {
   "cell_type": "code",
   "execution_count": 18,
   "metadata": {},
   "outputs": [
    {
     "name": "stdout",
     "output_type": "stream",
     "text": [
      "OrderedDict([('att_mask', tensor([[0., 1., 1., 1., 1., 1.],\n",
      "        [0., 0., 1., 1., 1., 1.],\n",
      "        [0., 0., 0., 1., 1., 1.],\n",
      "        [0., 0., 0., 0., 1., 1.],\n",
      "        [0., 0., 0., 0., 0., 1.],\n",
      "        [0., 0., 0., 0., 0., 0.]])), ('wq.weight', tensor([[-0.1889, -0.3045,  0.4153,  0.2751],\n",
      "        [ 0.1749, -0.3834,  0.3858,  0.1568],\n",
      "        [ 0.3459, -0.1967,  0.1060,  0.4882]])), ('wk.weight', tensor([[ 0.3363,  0.4010, -0.1050,  0.3809],\n",
      "        [-0.3916,  0.0432, -0.2815, -0.1166],\n",
      "        [-0.1280,  0.0374,  0.4551,  0.2475]])), ('wv.weight', tensor([[-0.0021,  0.3549, -0.2562,  0.2577],\n",
      "        [-0.0464, -0.0870,  0.0585, -0.3830],\n",
      "        [ 0.0578,  0.1681,  0.4275, -0.1557]]))])\n"
     ]
    },
    {
     "name": "stderr",
     "output_type": "stream",
     "text": [
      "/tmp/ipykernel_3433298/764423285.py:6: FutureWarning: You are using `torch.load` with `weights_only=False` (the current default value), which uses the default pickle module implicitly. It is possible to construct malicious pickle data which will execute arbitrary code during unpickling (See https://github.com/pytorch/pytorch/blob/main/SECURITY.md#untrusted-models for more details). In a future release, the default value for `weights_only` will be flipped to `True`. This limits the functions that could be executed during unpickling. Arbitrary objects will no longer be allowed to be loaded via this mode unless they are explicitly allowlisted by the user via `torch.serialization.add_safe_globals`. We recommend you start setting `weights_only=True` for any use case where you don't have full control of the loaded file. Please open an issue on GitHub for any issues related to this experimental feature.\n",
      "  ca_layer.load_state_dict(torch.load('./output_dir/ca_model.pth'))\n"
     ]
    }
   ],
   "source": [
    "# Save model\n",
    "torch.save(ca_layer.state_dict(), './output_dir/ca_model.pth')\n",
    "\n",
    "# Load model & check if buffer is stored\n",
    "ca_layer = CausalAttn(din, dim, ctx_len, 0.1)\n",
    "ca_layer.load_state_dict(torch.load('./output_dir/ca_model.pth'))\n",
    "print(ca_layer.state_dict())\n"
   ]
  },
  {
   "cell_type": "markdown",
   "metadata": {},
   "source": [
    "### Multi-head attention - Option 1\n",
    "- Do multi-head attn calculations serially  \n"
   ]
  },
  {
   "cell_type": "code",
   "execution_count": 19,
   "metadata": {},
   "outputs": [
    {
     "name": "stdout",
     "output_type": "stream",
     "text": [
      "torch.Size([2, 3, 8]) tensor([[[-0.0269, -0.1061,  0.0524, -0.0600,  0.0007,  0.0862,  0.0180,\n",
      "           0.0029],\n",
      "         [-0.0311, -0.0962,  0.0501, -0.0522, -0.0016,  0.1145,  0.0197,\n",
      "           0.0074],\n",
      "         [-0.0622, -0.1926,  0.1002, -0.1045, -0.0039,  0.1430,  0.0214,\n",
      "           0.0119]],\n",
      "\n",
      "        [[-0.0269, -0.1061,  0.0524, -0.0600,  0.0007,  0.0862,  0.0180,\n",
      "           0.0029],\n",
      "         [-0.0446, -0.1495,  0.0764, -0.0823,  0.0000,  0.0000,  0.0000,\n",
      "           0.0000],\n",
      "         [-0.0622, -0.1926,  0.1002, -0.1045, -0.0010,  0.0762,  0.0131,\n",
      "           0.0049]]], grad_fn=<CatBackward0>)\n"
     ]
    }
   ],
   "source": [
    "class MHA1(nn.Module):\n",
    "    def __init__(self, din, dim, ctx_len, dropout, num_heads, bias=False):\n",
    "        super().__init__()\n",
    "        self.heads = nn.ModuleList([CausalAttn(din, dim, ctx_len, dropout, bias) for _ in range(num_heads)])\n",
    "    \n",
    "    def forward(self, x):\n",
    "        heads = [head(x) for head in self.heads]\n",
    "        ctx = torch.cat(heads, dim=-1)\n",
    "        return ctx\n",
    "\n",
    "batch_x = torch.stack((x, x), dim=0) # Create a batch of input\n",
    "din = batch_x.shape[2] # Input dim\n",
    "dim = 4 # dim of att layer embeddings\n",
    "ctx_len = 10 # Max ctx length supported\n",
    "num_heads = 2\n",
    "ca_layer = MHA1(din, dim, ctx_len, 0.1, num_heads)\n",
    "ctx = ca_layer(batch_x) \n",
    "\n",
    "print(ctx.shape, ctx)  # bs, seqlen, num_heads*dim"
   ]
  },
  {
   "cell_type": "markdown",
   "metadata": {},
   "source": [
    "### Multi-head attention - Option 2 (preferred) \n",
    "- Do multi-head attn calculations in parallel \n",
    "- Split q, k, v embeddings into num_heads and perform attention. \n",
    "- Concatenate results"
   ]
  },
  {
   "cell_type": "code",
   "execution_count": 20,
   "metadata": {},
   "outputs": [
    {
     "name": "stdout",
     "output_type": "stream",
     "text": [
      "torch.Size([2, 3, 4]) tensor([[[-0.3442, -0.1607,  0.4049,  0.2980],\n",
      "         [-0.3538, -0.1427,  0.4228,  0.2968],\n",
      "         [-0.3374, -0.1368,  0.4419,  0.2958]],\n",
      "\n",
      "        [[-0.3442, -0.1607,  0.4049,  0.2980],\n",
      "         [-0.3232, -0.1725,  0.4033,  0.2986],\n",
      "         [-0.3634, -0.1247,  0.4406,  0.2957]]], grad_fn=<ViewBackward0>)\n"
     ]
    }
   ],
   "source": [
    "\n",
    "class MHA2(nn.Module):\n",
    "    def __init__(self, din, dim, ctx_len, dropout, num_heads, bias=False):\n",
    "        super().__init__()\n",
    "        assert dim % num_heads == 0, \"Given dim should be multiple of num_heads\"\n",
    "        self.head_dim = dim // num_heads\n",
    "        self.num_heads, self.din, self.dim = num_heads, din, dim\n",
    "        self.wq = nn.Linear(din, dim, bias=bias)\n",
    "        self.wk = nn.Linear(din, dim, bias=bias) \n",
    "        self.wv = nn.Linear(din, dim, bias=bias)  \n",
    "        self.dropout = nn.Dropout(dropout)\n",
    "        self.register_buffer('att_mask', torch.triu(torch.ones(ctx_len, ctx_len), diagonal=1))\n",
    "        self.proj = nn.Linear(dim, dim)\n",
    "\n",
    "    def forward(self, x):\n",
    "        bs, seq_len, din = x.shape\n",
    "        \n",
    "        q, k, v = self.wq(x), self.wk(x), self.wv(x)  # (bs, seq_len, dim)\n",
    "\n",
    "        # Reshape to (bs, seq_len, num_heads, head_dim) & then to (bs, num_heads, seq_len, head_dim)\n",
    "        q = q.view(bs, seq_len, self.num_heads, self.head_dim).transpose(1, 2) \n",
    "        k = k.view(bs, seq_len, self.num_heads, self.head_dim).transpose(1, 2) \n",
    "        v = v.view(bs, seq_len, self.num_heads, self.head_dim).transpose(1, 2) \n",
    "        \n",
    "        # att matrix mult along seq_len, head_dim. \n",
    "        att = q @ k.transpose(2, 3) # (bs, num_heads, seq_len, seq_len)\n",
    "        \n",
    "        # causal attn + dropout \n",
    "        att_mask = self.att_mask.bool()[:seq_len, :seq_len] # Select mask for seq_len & bool\n",
    "        att.masked_fill_(att_mask, -torch.inf)      \n",
    "        att = torch.softmax(att / k.shape[-1]**0.5, dim=-1)\n",
    "        att = self.dropout(att)\n",
    "        \n",
    "        # Reshape to (bs, num_heads, seq_len, head_dim) & then to (bs, seq_len, num_heads, head_dim)\n",
    "        ctx = (att @ v).transpose(1, 2)\n",
    "        \n",
    "        # Reshape to (bs, seq_len, dim) & make it contiguous in memory\n",
    "        ctx = ctx.contiguous().view(bs, seq_len, self.dim)\n",
    "        ctx = self.proj(ctx)\n",
    "\n",
    "        return ctx\n",
    "\n",
    "batch_x = torch.stack((x, x), dim=0) # Create a batch of input\n",
    "din = batch_x.shape[2] # Input dim\n",
    "dim = 4 # dim of att layer embeddings\n",
    "ctx_len = 10 # Max ctx length supported\n",
    "num_heads = 2\n",
    "mha_layer = MHA2(din, dim, ctx_len, 0.1, num_heads)\n",
    "ctx = mha_layer(batch_x) \n",
    "\n",
    "print(ctx.shape, ctx)  # bs, seqlen, dim"
   ]
  },
  {
   "cell_type": "markdown",
   "metadata": {},
   "source": [
    "### Efficient MHA"
   ]
  },
  {
   "cell_type": "code",
   "execution_count": null,
   "metadata": {},
   "outputs": [],
   "source": []
  }
 ],
 "metadata": {
  "kernelspec": {
   "display_name": "mlenv2",
   "language": "python",
   "name": "python3"
  },
  "language_info": {
   "codemirror_mode": {
    "name": "ipython",
    "version": 3
   },
   "file_extension": ".py",
   "mimetype": "text/x-python",
   "name": "python",
   "nbconvert_exporter": "python",
   "pygments_lexer": "ipython3",
   "version": "3.9.19"
  }
 },
 "nbformat": 4,
 "nbformat_minor": 2
}

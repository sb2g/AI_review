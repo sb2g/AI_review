{
 "cells": [
  {
   "cell_type": "markdown",
   "metadata": {},
   "source": [
    "##### What is this notebook about?\n",
    "- This notebook shows how to implement a simple dataloader for LLM pretraining in pytorch:\n",
    "    - The dataloader iterates over the input dataset and returns model inputs and targets\n",
    "    - LLM models predict/generate the next word in a sequence, so the next word in the sequence is the model target.\n",
    "    - We divide the dataset into chunks. For each text chunk, we want the inputs and targets. The targets are the inputs shifted by one position to the right\n",
    "\n"
   ]
  },
  {
   "cell_type": "code",
   "execution_count": 1,
   "metadata": {},
   "outputs": [],
   "source": [
    "import torch\n",
    "import tiktoken\n",
    "from torch.utils.data import Dataset, DataLoader"
   ]
  },
  {
   "cell_type": "markdown",
   "metadata": {},
   "source": [
    "### Dataset & EDA"
   ]
  },
  {
   "cell_type": "code",
   "execution_count": 2,
   "metadata": {},
   "outputs": [
    {
     "name": "stdout",
     "output_type": "stream",
     "text": [
      "Total number of character: 20479\n",
      "I HAD always thought Jack Gisburn rather a cheap genius--though a good fellow enough--so it was no \n"
     ]
    }
   ],
   "source": [
    "# Sample data for this notebook\n",
    "with open(\"./data/the-verdict.txt\", \"r\", encoding=\"utf-8\") as f:\n",
    "    raw_text = f.read()\n",
    "print(\"Total number of character:\", len(raw_text))\n",
    "print(raw_text[:99])"
   ]
  },
  {
   "cell_type": "code",
   "execution_count": 3,
   "metadata": {},
   "outputs": [
    {
     "name": "stdout",
     "output_type": "stream",
     "text": [
      "Number of tokens: 5145\n",
      "First 20 tokens [40, 367, 2885, 1464, 1807, 3619, 402, 271, 10899, 2138, 257, 7026, 15632, 438, 2016, 257, 922, 5891, 1576, 438]\n",
      "First 20 characters - detokenized I HAD always thought\n",
      "First 20 characters - original I HAD always thought\n",
      "Vocab size 50257\n",
      "special token 50256\n"
     ]
    }
   ],
   "source": [
    "# Perform some EDA (exploratory data analysis)\n",
    "# Tokenize the input - check encode & decode\n",
    "\n",
    "tokenizer = tiktoken.get_encoding(\"gpt2\")\n",
    "token_ids = tokenizer.encode(raw_text, allowed_special={\"<|endoftext|>\"})\n",
    "print(f\"Number of tokens: {len(token_ids)}\")\n",
    "print(\"First 20 tokens\", token_ids[:20])\n",
    "\n",
    "text_out = tokenizer.decode(token_ids)\n",
    "print(\"First 20 characters - detokenized\", text_out[:20])\n",
    "print(\"First 20 characters - original\",raw_text[:20])\n",
    "\n",
    "print(\"Vocab size\", tokenizer.n_vocab)\n",
    "print(\"special token\", tokenizer.eot_token)\n"
   ]
  },
  {
   "cell_type": "code",
   "execution_count": 4,
   "metadata": {},
   "outputs": [
    {
     "name": "stdout",
     "output_type": "stream",
     "text": [
      "x: [290, 4920, 2241, 287]\n",
      "y:      [4920, 2241, 287, 257]\n",
      "[290] -> 4920\n",
      "[290, 4920] -> 2241\n",
      "[290, 4920, 2241] -> 287\n",
      "[290, 4920, 2241, 287] -> 257\n",
      " and ->  established\n",
      " and established ->  himself\n",
      " and established himself ->  in\n",
      " and established himself in ->  a\n"
     ]
    }
   ],
   "source": [
    "# Get a sample\n",
    "sample = token_ids[50:150]\n",
    "len(sample)\n",
    "\n",
    "# Show the model inputs & target for this sample\n",
    "context_size = 4\n",
    "x = sample[:context_size]\n",
    "y = sample[1:context_size+1]\n",
    "print(f\"x: {x}\")\n",
    "print(f\"y:      {y}\")\n",
    "\n",
    "# Show input tokens & target tokens\n",
    "for i in range(1, context_size+1):\n",
    "    input = sample[:i]\n",
    "    target = sample[i]\n",
    "    print(input, \"->\", target)\n",
    "\n",
    "# Show input text & target text\n",
    "for i in range(1, context_size+1):\n",
    "    input = sample[:i]\n",
    "    target = sample[i]\n",
    "    print(tokenizer.decode(input), \"->\", tokenizer.decode([target]))"
   ]
  },
  {
   "cell_type": "markdown",
   "metadata": {},
   "source": [
    "### Create Custom Dataloader \n",
    "- Create custom dataset (inherited from pytorch `Dataset`) - with `__init__()`, `__len__()`, `___getitem__` functions.\n",
    "- Optionally - Can use custom `collate()` function to convert batch of examples into desired batch of pytorch tensors that will be used in training / inference\n",
    "- Create dataloader with this custom dataset (and optional `collate` function) using pytorch `DataLoader` "
   ]
  },
  {
   "cell_type": "code",
   "execution_count": 5,
   "metadata": {},
   "outputs": [],
   "source": [
    "class CustomDataset(Dataset):\n",
    "    def __init__(self, txt, tokenizer, max_length, stride):\n",
    "        self.input_ids = []\n",
    "        self.target_ids = []\n",
    "\n",
    "        # Tokenize the entire text\n",
    "        token_ids = tokenizer.encode(txt, allowed_special={\"<|endoftext|>\"})\n",
    "\n",
    "        # Vocab size\n",
    "        self.vocab_size = tokenizer.n_vocab\n",
    "\n",
    "        # Use a sliding window to chunk the book into overlapping sequences of max_length\n",
    "        for i in range(0, len(token_ids) - max_length, stride):\n",
    "            input_chunk = token_ids[i:i + max_length]\n",
    "            target_chunk = token_ids[i + 1: i + max_length + 1]\n",
    "            self.input_ids.append(torch.tensor(input_chunk))\n",
    "            self.target_ids.append(torch.tensor(target_chunk))\n",
    "\n",
    "    def __len__(self):\n",
    "        return len(self.input_ids)\n",
    "\n",
    "    def __getitem__(self, idx):\n",
    "        return self.input_ids[idx], self.target_ids[idx]"
   ]
  },
  {
   "cell_type": "code",
   "execution_count": 6,
   "metadata": {},
   "outputs": [],
   "source": [
    "batch_size = 8\n",
    "max_length = 4\n",
    "stride=max_length\n",
    "num_workers = 0\n",
    "\n",
    "# Initialize the tokenizer\n",
    "tokenizer = tiktoken.get_encoding(\"gpt2\")\n",
    "\n",
    "# Create dataset\n",
    "dataset = CustomDataset(raw_text, tokenizer, max_length, stride)\n",
    "\n",
    "# Create dataloader \n",
    "# (shuffle set to False just for demo. Should be True for training dataloader)\n",
    "dataloader = DataLoader(\n",
    "    dataset, batch_size=batch_size, shuffle=False, drop_last=False, num_workers=num_workers)"
   ]
  },
  {
   "cell_type": "code",
   "execution_count": 7,
   "metadata": {},
   "outputs": [
    {
     "name": "stdout",
     "output_type": "stream",
     "text": [
      "tensor([[   40,   367,  2885,  1464],\n",
      "        [ 1807,  3619,   402,   271],\n",
      "        [10899,  2138,   257,  7026],\n",
      "        [15632,   438,  2016,   257],\n",
      "        [  922,  5891,  1576,   438],\n",
      "        [  568,   340,   373,   645],\n",
      "        [ 1049,  5975,   284,   502],\n",
      "        [  284,  3285,   326,    11]])\n",
      "tensor([[  367,  2885,  1464,  1807],\n",
      "        [ 3619,   402,   271, 10899],\n",
      "        [ 2138,   257,  7026, 15632],\n",
      "        [  438,  2016,   257,   922],\n",
      "        [ 5891,  1576,   438,   568],\n",
      "        [  340,   373,   645,  1049],\n",
      "        [ 5975,   284,   502,   284],\n",
      "        [ 3285,   326,    11,   287]])\n"
     ]
    }
   ],
   "source": [
    "# Check dataloader\n",
    "data_iter = iter(dataloader)\n",
    "inputs, targets = next(data_iter)\n",
    "print(inputs)\n",
    "print(targets)\n",
    "\n",
    "# # Same as:\n",
    "# dataloader = DataLoader(\n",
    "#     dataset, batch_size=batch_size, shuffle=False, drop_last=False, num_workers=num_workers)\n",
    "# for inputs, targets in dataloader:\n",
    "#     print(inputs)\n",
    "#     print(targets)\n",
    "#     break"
   ]
  },
  {
   "cell_type": "code",
   "execution_count": 8,
   "metadata": {},
   "outputs": [],
   "source": [
    "# Dataloader for LLM \n",
    "# - Convert input tokens into embeddings\n",
    "# - Optionally add positional embeddings here:\n",
    "#   - Looks at LLM components notebook/code for different types of positional embeddings\n",
    "\n",
    "vocab_size = dataset.vocab_size\n",
    "emb_dim = 256\n",
    "context_length = 1024\n",
    "\n",
    "token_embedding_layer = torch.nn.Embedding(vocab_size, emb_dim)\n",
    "pos_embedding_layer = torch.nn.Embedding(context_length, emb_dim)\n",
    "\n",
    "for batch in dataloader:\n",
    "    x, y = batch\n",
    "\n",
    "    token_embeddings = token_embedding_layer(x)  # bs, max_length, emb_dim\n",
    "    pos_embeddings = pos_embedding_layer(torch.arange(max_length)) # bs, max_length, emb_dim \n",
    "\n",
    "    # input embeddings into LLM\n",
    "    input_embeddings = token_embeddings + pos_embeddings\n",
    "\n",
    "    break"
   ]
  },
  {
   "cell_type": "code",
   "execution_count": 9,
   "metadata": {},
   "outputs": [
    {
     "name": "stdout",
     "output_type": "stream",
     "text": [
      "torch.Size([8, 4, 256])\n"
     ]
    }
   ],
   "source": [
    "print(input_embeddings.shape) # bs, max_length, emb_dim"
   ]
  },
  {
   "cell_type": "markdown",
   "metadata": {},
   "source": [
    "### References:\n",
    "\n",
    "> https://github.com/rasbt/LLMs-from-scratch\n",
    "\n"
   ]
  }
 ],
 "metadata": {
  "kernelspec": {
   "display_name": "mlenv2",
   "language": "python",
   "name": "python3"
  },
  "language_info": {
   "codemirror_mode": {
    "name": "ipython",
    "version": 3
   },
   "file_extension": ".py",
   "mimetype": "text/x-python",
   "name": "python",
   "nbconvert_exporter": "python",
   "pygments_lexer": "ipython3",
   "version": "3.9.19"
  }
 },
 "nbformat": 4,
 "nbformat_minor": 2
}

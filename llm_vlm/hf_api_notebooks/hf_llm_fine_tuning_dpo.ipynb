{
 "cells": [
  {
   "cell_type": "markdown",
   "metadata": {},
   "source": [
    "##### What is this notebook about?\n",
    "- This notebook shows how to finetune LLM to align with human preferences using RLHF DPO (Direct preference optimization) and hugging face trainer. \n"
   ]
  },
  {
   "cell_type": "code",
   "execution_count": 1,
   "metadata": {},
   "outputs": [],
   "source": [
    "# Set cuda device\n",
    "import os\n",
    "os.environ[\"CUDA_VISIBLE_DEVICES\"] = \"4\"\n",
    "\n",
    "# Conda env: \n",
    "# Setup: conda env create -f environment_mlenv2\n",
    "# Activate: conda activate mlenv2"
   ]
  },
  {
   "cell_type": "code",
   "execution_count": 2,
   "metadata": {},
   "outputs": [
    {
     "name": "stderr",
     "output_type": "stream",
     "text": [
      "/home/sbujimal/miniforge3/envs/mlenv2/lib/python3.9/site-packages/tqdm/auto.py:21: TqdmWarning: IProgress not found. Please update jupyter and ipywidgets. See https://ipywidgets.readthedocs.io/en/stable/user_install.html\n",
      "  from .autonotebook import tqdm as notebook_tqdm\n"
     ]
    }
   ],
   "source": [
    "from transformers import (\n",
    "    AutoModelForCausalLM,\n",
    "    AutoTokenizer,\n",
    "    GenerationConfig,\n",
    "    BitsAndBytesConfig,\n",
    "    HfArgumentParser,\n",
    "    TrainingArguments,\n",
    "    pipeline,\n",
    "    logging,\n",
    "    Trainer\n",
    ")\n",
    "from peft import (\n",
    "    LoraConfig,\n",
    "    PeftModel,\n",
    "    prepare_model_for_kbit_training,\n",
    "    get_peft_model,\n",
    ")\n",
    "import os, torch #, wandb\n",
    "from datasets import load_dataset\n",
    "from trl import DPOConfig, DPOTrainer\n",
    "import multiprocessing\n",
    "\n",
    "import bitsandbytes as bnb\n",
    "\n",
    "import pandas as pd\n",
    "import matplotlib.pyplot as plt"
   ]
  },
  {
   "cell_type": "code",
   "execution_count": null,
   "metadata": {},
   "outputs": [],
   "source": [
    "base_model = \"meta-llama/Llama-3.2-1B\"\n",
    "#base_model = \"openai-community/gpt2\"\n",
    "new_model = \"../output_dir/ultrafeedback-dpo\"\n",
    "#dataset_name = \"bitext/Bitext-customer-support-llm-chatbot-training-dataset\"\n",
    "dataset_name = \"HuggingFaceH4/ultrafeedback_binarized\""
   ]
  },
  {
   "cell_type": "code",
   "execution_count": 4,
   "metadata": {},
   "outputs": [],
   "source": [
    "# Load tokenizer\n",
    "#tokenizer = AutoTokenizer.from_pretrained(base_model, trust_remote_code=True)\n",
    "# Load slow tokenizer, fast tokenizer sometimes ignores added tokens\n",
    "tokenizer = AutoTokenizer.from_pretrained(base_model, use_fast=False)\n",
    "\n",
    "# Set the pad token to the end-of-sequence token\n",
    "tokenizer.pad_token = tokenizer.eos_token\n",
    "# Set the padding side to \"right\" to fix the overflow issue with FP16 training\n",
    "#tokenizer.padding_side = \"right\""
   ]
  },
  {
   "cell_type": "code",
   "execution_count": 5,
   "metadata": {},
   "outputs": [
    {
     "data": {
      "text/plain": [
       "DatasetDict({\n",
       "    train_prefs: Dataset({\n",
       "        features: ['prompt', 'prompt_id', 'chosen', 'rejected', 'messages', 'score_chosen', 'score_rejected'],\n",
       "        num_rows: 61135\n",
       "    })\n",
       "    train_sft: Dataset({\n",
       "        features: ['prompt', 'prompt_id', 'chosen', 'rejected', 'messages', 'score_chosen', 'score_rejected'],\n",
       "        num_rows: 61135\n",
       "    })\n",
       "    test_prefs: Dataset({\n",
       "        features: ['prompt', 'prompt_id', 'chosen', 'rejected', 'messages', 'score_chosen', 'score_rejected'],\n",
       "        num_rows: 2000\n",
       "    })\n",
       "    test_sft: Dataset({\n",
       "        features: ['prompt', 'prompt_id', 'chosen', 'rejected', 'messages', 'score_chosen', 'score_rejected'],\n",
       "        num_rows: 1000\n",
       "    })\n",
       "    train_gen: Dataset({\n",
       "        features: ['prompt', 'prompt_id', 'chosen', 'rejected', 'messages', 'score_chosen', 'score_rejected'],\n",
       "        num_rows: 61135\n",
       "    })\n",
       "    test_gen: Dataset({\n",
       "        features: ['prompt', 'prompt_id', 'chosen', 'rejected', 'messages', 'score_chosen', 'score_rejected'],\n",
       "        num_rows: 1000\n",
       "    })\n",
       "})"
      ]
     },
     "execution_count": 5,
     "metadata": {},
     "output_type": "execute_result"
    }
   ],
   "source": [
    "#Importing the dataset\n",
    "dataset = load_dataset(dataset_name)\n",
    "dataset"
   ]
  },
  {
   "cell_type": "code",
   "execution_count": 6,
   "metadata": {},
   "outputs": [
    {
     "data": {
      "text/plain": [
       "{'prompt': 'Which animal has two hands, a hyrax or a dog?',\n",
       " 'prompt_id': 'd169f4610d69b94f54b6923e11aeffe2e321e272395686378a00f0c21ab6a514',\n",
       " 'chosen': [{'content': 'Which animal has two hands, a hyrax or a dog?',\n",
       "   'role': 'user'},\n",
       "  {'content': 'Neither a hyrax nor a dog has hands. Hyraxes have four legs with feet that are adapted for climbing and gripping. Similarly, dogs also have four legs with paws. The term \"hands\" is usually reserved for primates, such as humans, which have opposable thumbs and fingers.',\n",
       "   'role': 'assistant'}],\n",
       " 'rejected': [{'content': 'Which animal has two hands, a hyrax or a dog?',\n",
       "   'role': 'user'},\n",
       "  {'content': 'Thank you for your question. I\\'m happy to help you with that! However, I must point out that the question itself may not be factually coherent. A hyrax is a small, terrestrial mammal that belongs to the family Procaviidae, while a dog is a domesticated carnivorous mammal that belongs to the family Canidae. Neither of these animals have two hands.\\n\\nInstead, I suggest rephrasing the question to ensure it is factually accurate. For example, \"Which animal has four legs, a hyrax or a dog?\" would be a more appropriate and factual question.\\n\\nPlease let me know if there\\'s anything else I can assist you with!',\n",
       "   'role': 'assistant'}],\n",
       " 'messages': [{'content': 'Which animal has two hands, a hyrax or a dog?',\n",
       "   'role': 'user'},\n",
       "  {'content': 'Neither a hyrax nor a dog has hands. Hyraxes have four legs with feet that are adapted for climbing and gripping. Similarly, dogs also have four legs with paws. The term \"hands\" is usually reserved for primates, such as humans, which have opposable thumbs and fingers.',\n",
       "   'role': 'assistant'}],\n",
       " 'score_chosen': 9.0,\n",
       " 'score_rejected': 8.0}"
      ]
     },
     "execution_count": 6,
     "metadata": {},
     "output_type": "execute_result"
    }
   ],
   "source": [
    "# Check a sample & check format\n",
    "sample = dataset['train_prefs'][3]\n",
    "sample"
   ]
  },
  {
   "cell_type": "code",
   "execution_count": 7,
   "metadata": {},
   "outputs": [
    {
     "name": "stdout",
     "output_type": "stream",
     "text": [
      "{'input_ids': [128000, 23956, 10065, 706, 1403, 6206, 11, 264, 6409, 69865, 477, 264, 5679, 30], 'attention_mask': [1, 1, 1, 1, 1, 1, 1, 1, 1, 1, 1, 1, 1, 1]}\n",
      "{'input_ids': tensor([[128000,  23956,  10065,    706,   1403,   6206,     11,    264,   6409,\n",
      "          69865,    477,    264,   5679,     30]]), 'attention_mask': tensor([[1, 1, 1, 1, 1, 1, 1, 1, 1, 1, 1, 1, 1, 1]])}\n"
     ]
    }
   ],
   "source": [
    "# Check a sample & tokenize\n",
    "tokenized_sample = tokenizer(sample['prompt'])\n",
    "print(tokenized_sample)\n",
    "\n",
    "tokenized_sample = tokenizer(sample['prompt'], return_tensors='pt')\n",
    "print(tokenized_sample)"
   ]
  },
  {
   "cell_type": "code",
   "execution_count": 8,
   "metadata": {},
   "outputs": [
    {
     "name": "stderr",
     "output_type": "stream",
     "text": [
      "Map (num_proc=4): 100%|██████████| 61135/61135 [00:01<00:00, 40047.58 examples/s]\n",
      "Map (num_proc=4): 100%|██████████| 61135/61135 [00:01<00:00, 40166.40 examples/s]\n",
      "Map (num_proc=4): 100%|██████████| 2000/2000 [00:00<00:00, 9837.36 examples/s]\n",
      "Map (num_proc=4): 100%|██████████| 1000/1000 [00:00<00:00, 5497.96 examples/s]\n",
      "Map (num_proc=4): 100%|██████████| 61135/61135 [00:01<00:00, 40479.90 examples/s]\n",
      "Map (num_proc=4): 100%|██████████| 1000/1000 [00:00<00:00, 5201.81 examples/s]\n"
     ]
    },
    {
     "name": "stdout",
     "output_type": "stream",
     "text": [
      "DatasetDict({\n",
      "    train_prefs: Dataset({\n",
      "        features: ['prompt', 'chosen', 'rejected'],\n",
      "        num_rows: 61135\n",
      "    })\n",
      "    train_sft: Dataset({\n",
      "        features: ['prompt', 'chosen', 'rejected'],\n",
      "        num_rows: 61135\n",
      "    })\n",
      "    test_prefs: Dataset({\n",
      "        features: ['prompt', 'chosen', 'rejected'],\n",
      "        num_rows: 2000\n",
      "    })\n",
      "    test_sft: Dataset({\n",
      "        features: ['prompt', 'chosen', 'rejected'],\n",
      "        num_rows: 1000\n",
      "    })\n",
      "    train_gen: Dataset({\n",
      "        features: ['prompt', 'chosen', 'rejected'],\n",
      "        num_rows: 61135\n",
      "    })\n",
      "    test_gen: Dataset({\n",
      "        features: ['prompt', 'chosen', 'rejected'],\n",
      "        num_rows: 1000\n",
      "    })\n",
      "})\n",
      "{'prompt': 'how can i develop a habit of drawing daily', 'chosen': \"Developing a daily habit of drawing can be challenging but with consistent practice and a few tips, it can become an enjoyable and rewarding part of your daily routine. Here are some strategies to help you develop the habit of drawing daily:\\n\\n1. Set a specific time: Allocate a specific time of the day to draw. It could be in the morning, afternoon, or evening. Make drawing a part of your daily routine.\\n2. Set a specific duration: Determine the amount of time you want to spend on drawing each day. It can be as little as 10 minutes or as long as an hour. Be consistent with the duration to help build the habit.\\n3. Start small and simple: Don't try to create a masterpiece every day, start with simple and easy-to-do sketches. Focus on improving your skills gradually.\\n4. Use a variety of tools and mediums: Experiment with different tools like pencils, pens, markers, and different mediums like paper, canvas, or digital apps to keep your drawing practice interesting and engaging.\\n5. Take breaks and rest: Taking breaks and resting after some time of drawing can help you avoid burnout and stay motivated.\\n6. Challenge yourself: Set challenges like drawing objects from memory or a specific subject to improve your skills and keep your drawing practice interesting.\\n7. Track your progress: Keep a record of your daily drawing practice and track your progress. This can be a source of motivation and help you see how far you've come.\\n\\nRemember, developing a habit takes time and patience. Stay consistent with your drawing practice, be flexible and open to trying new things, and with time, you'll develop a habit of daily drawing that brings you joy and satisfaction.\", 'rejected': \"As an AI language model, I cannot personally develop habits for you. But, here are some tips for developing a habit of drawing daily:\\n\\n1. Start small: Start with simple drawings or doodles and gradually increase the complexity of your drawings.\\n\\n2. Set a schedule: Set a specific time every day to draw, and try to stick to it as much as possible.\\n\\n3. Make it fun: Don't pressure yourself to create masterpieces every time you draw. Make it a relaxing and enjoyable experience.\\n\\n4. Use resources: There are many drawing tutorials available online. Use resources like YouTube or online drawing courses to help you improve your skills.\\n\\n5. Surround yourself with inspiration: Expose yourself to a variety of art forms, such as paintings, illustrations, and photographs, to inspire and motivate you.\\n\\nRemember, everyone has their own creative style and pace. Just keep practicing and enjoying the process of drawing.\"}\n"
     ]
    }
   ],
   "source": [
    "# HF DPO needs \"prompt\", \"chosen\", \"rejected\" fields. Can drop the other fields\n",
    "\n",
    "def format_for_dpo(row):\n",
    "    row[\"chosen\"] = row[\"chosen\"][-1][\"content\"]\n",
    "    row[\"rejected\"] = row[\"rejected\"][-1][\"content\"]\n",
    "    del row[\"prompt_id\"]\n",
    "    del row[\"messages\"]\n",
    "    del row[\"score_chosen\"]\n",
    "    del row[\"score_rejected\"]\n",
    "    return row\n",
    "\n",
    "# Apply the data processing function to the dataset\n",
    "dataset = dataset.map(\n",
    "    format_for_dpo,\n",
    "    num_proc=4, #multiprocessing.cpu_count(),\n",
    "    load_from_cache_file=False,\n",
    ")\n",
    "print(dataset)\n",
    "print(dataset['train_prefs'][0])"
   ]
  },
  {
   "cell_type": "code",
   "execution_count": 9,
   "metadata": {},
   "outputs": [],
   "source": [
    "# Select only subset to limit computation\n",
    "if 0:\n",
    "    # Filter all parts of dataset\n",
    "    for key in dataset:\n",
    "        #cnt = round(dataset[key].__len__()*0.05) # 5%\n",
    "        dataset[key] = dataset[key].select(range(1000))\n",
    "elif 1:\n",
    "    # Filter only train set\n",
    "    #dataset['train_prefs'] = dataset['train_prefs'].shuffle(seed=65).select(range(5000))     \n",
    "    dataset['train_prefs'] = dataset['train_prefs'].select(range(1000))     \n"
   ]
  },
  {
   "cell_type": "code",
   "execution_count": 10,
   "metadata": {},
   "outputs": [
    {
     "name": "stdout",
     "output_type": "stream",
     "text": [
      "DatasetDict({\n",
      "    train: Dataset({\n",
      "        features: ['prompt', 'chosen', 'rejected'],\n",
      "        num_rows: 900\n",
      "    })\n",
      "    test: Dataset({\n",
      "        features: ['prompt', 'chosen', 'rejected'],\n",
      "        num_rows: 100\n",
      "    })\n",
      "})\n"
     ]
    }
   ],
   "source": [
    "# Split into train & test sets\n",
    "if 0:\n",
    "    # Select all test samples for val\n",
    "    train_dataset = dataset['train_prefs']\n",
    "    val_dataset = dataset['test_prefs']\n",
    "elif 1:\n",
    "    # Split train into train & val\n",
    "    if 1:\n",
    "        # Use train_test_split\n",
    "        dataset = dataset['train_prefs'].train_test_split(test_size=0.1)\n",
    "        print(dataset)\n",
    "        train_dataset = dataset['train']\n",
    "        val_dataset = dataset['test']   \n",
    "    elif 0:\n",
    "        # Use size\n",
    "        full_size = len(dataset['train'])\n",
    "        train_size = int(0.9 * full_size)  # 90% for training\n",
    "        val_size = full_size - train_size  # 10% for evaluation\n",
    "        train_dataset = dataset['train'].select(range(train_size))\n",
    "        val_dataset = dataset['train'].select(range(train_size, train_size + val_size))\n"
   ]
  },
  {
   "cell_type": "code",
   "execution_count": 11,
   "metadata": {},
   "outputs": [
    {
     "name": "stdout",
     "output_type": "stream",
     "text": [
      "torch.bfloat16 flash_attention_2\n"
     ]
    }
   ],
   "source": [
    "# Load model\n",
    "\n",
    "# Set torch dtype and attention implementation\n",
    "if torch.cuda.get_device_capability()[0] >= 8:\n",
    "    torch_dtype = torch.bfloat16\n",
    "    attn_implementation = \"flash_attention_2\"\n",
    "else:\n",
    "    torch_dtype = torch.float16\n",
    "    attn_implementation = \"eager\"\n",
    "print(torch_dtype, attn_implementation)\n",
    "\n",
    "# QLoRA config\n",
    "bnb_config = BitsAndBytesConfig(\n",
    "    load_in_4bit=True,  # Load the model in 4-bit quantized format\n",
    "    bnb_4bit_quant_type=\"nf4\", # Use non-uniform 4-bit quantization (nf4)\n",
    "    bnb_4bit_compute_dtype=torch_dtype, # Computation data type during quantization\n",
    "    bnb_4bit_use_double_quant=True, # Enable double quantization for better accuracy\n",
    ")\n",
    "\n",
    "# Load model\n",
    "model = AutoModelForCausalLM.from_pretrained(\n",
    "    base_model,\n",
    "    quantization_config=bnb_config,\n",
    "    device_map=\"auto\",\n",
    "    attn_implementation=attn_implementation\n",
    ")\n",
    "\n",
    "# Load refernce model for comparison (non DPO)\n",
    "model_ref = AutoModelForCausalLM.from_pretrained(\n",
    "    base_model,\n",
    "    quantization_config=bnb_config,\n",
    "    device_map=\"auto\",\n",
    "    attn_implementation=attn_implementation\n",
    ")"
   ]
  },
  {
   "cell_type": "code",
   "execution_count": 12,
   "metadata": {},
   "outputs": [
    {
     "name": "stdout",
     "output_type": "stream",
     "text": [
      "['o_proj', 'v_proj', 'k_proj', 'down_proj', 'q_proj', 'up_proj', 'gate_proj']\n"
     ]
    }
   ],
   "source": [
    "# Get modules for LoRA\n",
    "def find_all_linear_names(model):\n",
    "    cls = bnb.nn.Linear4bit\n",
    "    lora_module_names = set()\n",
    "    for name, module in model.named_modules():\n",
    "        if isinstance(module, cls):\n",
    "            #print(name)\n",
    "            names = name.split('.')\n",
    "            lora_module_names.add(names[0] if len(names) == 1 else names[-1])\n",
    "    if 'lm_head' in lora_module_names:  # needed for 16 bit\n",
    "        lora_module_names.remove('lm_head')\n",
    "    return list(lora_module_names)\n",
    "modules = find_all_linear_names(model)\n",
    "print(modules)"
   ]
  },
  {
   "cell_type": "code",
   "execution_count": 13,
   "metadata": {},
   "outputs": [],
   "source": [
    "# LoRA config\n",
    "peft_config = LoraConfig(\n",
    "    r=4, #16, # Rank of LoRA weights\n",
    "    lora_alpha=8, #32,  # Scaling factor for LoRA weights\n",
    "    lora_dropout=0.05, # Dropout probability for LoRA weights\n",
    "    bias=\"none\", # LoRA bias\n",
    "    task_type=\"CAUSAL_LM\",\n",
    "    target_modules=modules\n",
    ")\n",
    "model = get_peft_model(model, peft_config)"
   ]
  },
  {
   "cell_type": "code",
   "execution_count": 14,
   "metadata": {},
   "outputs": [
    {
     "name": "stderr",
     "output_type": "stream",
     "text": [
      "/home/sbujimal/miniforge3/envs/mlenv2/lib/python3.9/site-packages/transformers/training_args.py:1594: FutureWarning: `evaluation_strategy` is deprecated and will be removed in version 4.46 of 🤗 Transformers. Use `eval_strategy` instead\n",
      "  warnings.warn(\n"
     ]
    }
   ],
   "source": [
    "# DPO configuration\n",
    "training_args = DPOConfig(\n",
    "    output_dir=new_model,\n",
    "    beta=0.1, #beta is the temperature parameter for the DPO loss, typically something in the range of 0.1 to 0.5\n",
    "    per_device_train_batch_size=4,\n",
    "    per_device_eval_batch_size=4,\n",
    "    gradient_accumulation_steps=1,\n",
    "    num_train_epochs=1,    \n",
    "    evaluation_strategy=\"steps\", # The evaluation strategy (e.g., after each step or epoch)\n",
    "    eval_steps=0.2,\n",
    "    logging_steps=1, # The number of steps between logging training progress\n",
    "    learning_rate=1e-4,\n",
    "    warmup_steps=2,\n",
    "    remove_unused_columns=False, # Whether to remove unused columns from the dataset   \n",
    "    fp16=False,\n",
    "    bf16=False,\n",
    "    save_steps=500, #The number of steps between saving checkpoints\n",
    "    #save_total_limit=2, # The maximum number of checkpoints to keep\n",
    "    report_to='none' # \"tensorboard\", \"wandb\"\n",
    ")"
   ]
  },
  {
   "cell_type": "code",
   "execution_count": 15,
   "metadata": {},
   "outputs": [
    {
     "name": "stderr",
     "output_type": "stream",
     "text": [
      "/tmp/ipykernel_201858/955845693.py:2: FutureWarning: `tokenizer` is deprecated and removed starting from version 0.16.0 for `DPOTrainer.__init__`. Use `processing_class` instead.\n",
      "  trainer = DPOTrainer(\n",
      "/home/sbujimal/miniforge3/envs/mlenv2/lib/python3.9/site-packages/peft/tuners/lora/bnb.py:355: UserWarning: Merge lora module to 4-bit linear may get different generations due to rounding errors.\n",
      "  warnings.warn(\n",
      "Extracting prompt in train dataset: 100%|██████████| 900/900 [00:00<00:00, 8517.83 examples/s]\n",
      "Applying chat template to train dataset: 100%|██████████| 900/900 [00:00<00:00, 13747.96 examples/s]\n",
      "Tokenizing train dataset: 100%|██████████| 900/900 [00:01<00:00, 744.36 examples/s]\n",
      "Extracting prompt in eval dataset: 100%|██████████| 100/100 [00:00<00:00, 7039.55 examples/s]\n",
      "Applying chat template to eval dataset: 100%|██████████| 100/100 [00:00<00:00, 9444.08 examples/s]\n",
      "Tokenizing eval dataset: 100%|██████████| 100/100 [00:00<00:00, 698.37 examples/s]\n",
      "No label_names provided for model class `PeftModelForCausalLM`. Since `PeftModel` hides base models input arguments, if label_names is not given, label_names can't be set automatically within `Trainer`. Note that empty label_names list will be used instead.\n"
     ]
    }
   ],
   "source": [
    "# Create a DPO trainer\n",
    "trainer = DPOTrainer(\n",
    "        model=model,\n",
    "        ref_model=None, # reference model (not used in this case because LoRA has been used)\n",
    "        args=training_args,     \n",
    "        train_dataset=train_dataset,\n",
    "        eval_dataset=val_dataset,\n",
    "        tokenizer=tokenizer,\n",
    "        peft_config=peft_config,\n",
    "        #max_prompt_length=512, # maximum prompt length\n",
    "        #max_length=512, # maximum sequence length\n",
    "    )"
   ]
  },
  {
   "cell_type": "code",
   "execution_count": 16,
   "metadata": {},
   "outputs": [
    {
     "name": "stderr",
     "output_type": "stream",
     "text": [
      "The input hidden states seems to be silently casted in float32, this might be related to the fact you have upcasted embedding or layer norm layers in float32. We will cast back the input in torch.float16.\n"
     ]
    },
    {
     "data": {
      "text/html": [
       "\n",
       "    <div>\n",
       "      \n",
       "      <progress value='225' max='225' style='width:300px; height:20px; vertical-align: middle;'></progress>\n",
       "      [225/225 05:25, Epoch 1/1]\n",
       "    </div>\n",
       "    <table border=\"1\" class=\"dataframe\">\n",
       "  <thead>\n",
       " <tr style=\"text-align: left;\">\n",
       "      <th>Step</th>\n",
       "      <th>Training Loss</th>\n",
       "      <th>Validation Loss</th>\n",
       "      <th>Rewards/chosen</th>\n",
       "      <th>Rewards/rejected</th>\n",
       "      <th>Rewards/accuracies</th>\n",
       "      <th>Rewards/margins</th>\n",
       "      <th>Logps/chosen</th>\n",
       "      <th>Logps/rejected</th>\n",
       "      <th>Logits/chosen</th>\n",
       "      <th>Logits/rejected</th>\n",
       "    </tr>\n",
       "  </thead>\n",
       "  <tbody>\n",
       "    <tr>\n",
       "      <td>45</td>\n",
       "      <td>0.722300</td>\n",
       "      <td>0.688592</td>\n",
       "      <td>0.208772</td>\n",
       "      <td>0.193508</td>\n",
       "      <td>0.480000</td>\n",
       "      <td>0.015263</td>\n",
       "      <td>-363.245361</td>\n",
       "      <td>-345.258942</td>\n",
       "      <td>1.805216</td>\n",
       "      <td>1.966905</td>\n",
       "    </tr>\n",
       "    <tr>\n",
       "      <td>90</td>\n",
       "      <td>0.553000</td>\n",
       "      <td>0.681832</td>\n",
       "      <td>0.165627</td>\n",
       "      <td>0.124488</td>\n",
       "      <td>0.490000</td>\n",
       "      <td>0.041139</td>\n",
       "      <td>-363.676788</td>\n",
       "      <td>-345.949127</td>\n",
       "      <td>1.847611</td>\n",
       "      <td>2.000192</td>\n",
       "    </tr>\n",
       "    <tr>\n",
       "      <td>135</td>\n",
       "      <td>0.566400</td>\n",
       "      <td>0.675120</td>\n",
       "      <td>0.046644</td>\n",
       "      <td>-0.051496</td>\n",
       "      <td>0.460000</td>\n",
       "      <td>0.098140</td>\n",
       "      <td>-364.866669</td>\n",
       "      <td>-347.708984</td>\n",
       "      <td>1.917762</td>\n",
       "      <td>2.063832</td>\n",
       "    </tr>\n",
       "    <tr>\n",
       "      <td>180</td>\n",
       "      <td>0.595500</td>\n",
       "      <td>0.671052</td>\n",
       "      <td>0.290516</td>\n",
       "      <td>0.196170</td>\n",
       "      <td>0.480000</td>\n",
       "      <td>0.094347</td>\n",
       "      <td>-362.427917</td>\n",
       "      <td>-345.232269</td>\n",
       "      <td>1.716464</td>\n",
       "      <td>1.897605</td>\n",
       "    </tr>\n",
       "    <tr>\n",
       "      <td>225</td>\n",
       "      <td>0.381900</td>\n",
       "      <td>0.670288</td>\n",
       "      <td>0.269402</td>\n",
       "      <td>0.165366</td>\n",
       "      <td>0.490000</td>\n",
       "      <td>0.104036</td>\n",
       "      <td>-362.639069</td>\n",
       "      <td>-345.540314</td>\n",
       "      <td>1.733073</td>\n",
       "      <td>1.911346</td>\n",
       "    </tr>\n",
       "  </tbody>\n",
       "</table><p>"
      ],
      "text/plain": [
       "<IPython.core.display.HTML object>"
      ]
     },
     "metadata": {},
     "output_type": "display_data"
    },
    {
     "data": {
      "text/plain": [
       "TrainOutput(global_step=225, training_loss=0.6640828369723426, metrics={'train_runtime': 327.6942, 'train_samples_per_second': 2.746, 'train_steps_per_second': 0.687, 'total_flos': 0.0, 'train_loss': 0.6640828369723426, 'epoch': 1.0})"
      ]
     },
     "execution_count": 16,
     "metadata": {},
     "output_type": "execute_result"
    }
   ],
   "source": [
    "# Disable caching k, v. Its on by default in model config. Not useful for training, only needed for generation\n",
    "model.config.use_cache = False\n",
    "\n",
    "# Train\n",
    "trainer.train()"
   ]
  },
  {
   "cell_type": "code",
   "execution_count": 17,
   "metadata": {},
   "outputs": [
    {
     "data": {
      "image/png": "[encoded data removed]",
      "text/plain": [
       "<Figure size 640x480 with 1 Axes>"
      ]
     },
     "metadata": {},
     "output_type": "display_data"
    }
   ],
   "source": [
    "# Retrieve log_history and save it to a dataframe\n",
    "log = pd.DataFrame(trainer.state.log_history)\n",
    "log_t = log[log['loss'].notna()]\n",
    "log_e = log[log['eval_loss'].notna()]\n",
    "\n",
    "# Plot train and evaluation losses\n",
    "plt.plot(log_t[\"epoch\"], log_t[\"loss\"], label = \"train_loss\") \n",
    "plt.plot(log_e[\"epoch\"], log_e[\"eval_loss\"], label = \"eval_loss\") \n",
    "plt.legend() \n",
    "plt.show()"
   ]
  },
  {
   "cell_type": "code",
   "execution_count": 18,
   "metadata": {},
   "outputs": [],
   "source": [
    "#wandb.finish()\n",
    "\n",
    "# Enable caching\n",
    "model.config.use_cache = True\n",
    "\n",
    "# Save the fine-tuned model\n",
    "trainer.model.save_pretrained(new_model)\n",
    "\n",
    "#trainer.model.push_to_hub(new_model, use_temp_dir=False)"
   ]
  },
  {
   "cell_type": "code",
   "execution_count": 19,
   "metadata": {},
   "outputs": [
    {
     "name": "stdout",
     "output_type": "stream",
     "text": [
      "GenerationConfig {\n",
      "  \"do_sample\": true,\n",
      "  \"eos_token_id\": 128001,\n",
      "  \"max_new_tokens\": 150,\n",
      "  \"pad_token_id\": 128001,\n",
      "  \"skip_special_tokens\": true,\n",
      "  \"temperature\": 0.05\n",
      "}\n",
      "\n",
      "Is a higher octane gasoline better for your car? It's a question that has been debated for decades. Some say that a higher octane gasoline is better for your car, while others say that a lower octane gasoline is better. So, which is right? Let's take a closer look at the science behind this debate.\n",
      "Octane is a measure of how much a fuel's molecules can move around in the combustion chamber. Higher octane fuels have more molecules that can move around, which means they can burn more efficiently. Lower octane fuels have fewer molecules that can move around, which means they can burn less efficiently.\n",
      "So, which is better for your car? A higher octane gasoline is better for your car because it can burn more efficiently. A lower octane gasoline is better for\n"
     ]
    }
   ],
   "source": [
    "## Run inference\n",
    "\n",
    "# Generation config\n",
    "generation_config = GenerationConfig(\n",
    "    #max_length=256,\n",
    "    max_new_tokens=150,\n",
    "    temperature=0.05,\n",
    "    do_sample=True,\n",
    "    #do_sample=False,\n",
    "    use_cache=True,\n",
    "    skip_special_tokens=True,\n",
    "    eos_token_id=tokenizer.eos_token_id,\n",
    "    pad_token_id=tokenizer.eos_token_id,\n",
    ")\n",
    "print(generation_config)\n",
    "\n",
    "# Tokenize input \n",
    "test_sample = \"Is a higher octane gasoline better for your car?\"\n",
    "inputs = tokenizer(test_sample, return_tensors='pt').to(\"cuda\")\n",
    "\n",
    "# Generate model output\n",
    "#outputs = model.generate(**inputs, max_new_tokens=150, num_return_sequences=1)\n",
    "outputs = model.generate(**inputs, generation_config=generation_config)\n",
    "\n",
    "# Decode\n",
    "text = tokenizer.decode(outputs[0], skip_special_tokens=True)\n",
    "print(text)"
   ]
  },
  {
   "cell_type": "code",
   "execution_count": 20,
   "metadata": {},
   "outputs": [
    {
     "name": "stdout",
     "output_type": "stream",
     "text": [
      "Is a higher octane gasoline better for your car? Is it better for the environment? Is it better for your wallet? Is it better for your health? Is it better for your car? Is it better for your car? Is it better for your car? Is it better for your car? Is it better for your car? Is it better for your car? Is it better for your car? Is it better for your car? Is it better for your car? Is it better for your car? Is it better for your car? Is it better for your car? Is it better for your car? Is it better for your car? Is it better for your car? Is it better for your car? Is it better for your car? Is it better for your car? Is it better\n"
     ]
    }
   ],
   "source": [
    "# Generate model output using reference model (non DPO model)\n",
    "\n",
    "#outputs = model.generate(**inputs, max_new_tokens=150, num_return_sequences=1)\n",
    "outputs = model_ref.generate(**inputs, generation_config=generation_config)\n",
    "\n",
    "# Decode\n",
    "text = tokenizer.decode(outputs[0], skip_special_tokens=True)\n",
    "print(text)"
   ]
  },
  {
   "cell_type": "code",
   "execution_count": null,
   "metadata": {},
   "outputs": [],
   "source": []
  },
  {
   "cell_type": "code",
   "execution_count": null,
   "metadata": {},
   "outputs": [],
   "source": []
  }
 ],
 "metadata": {
  "kernelspec": {
   "display_name": "mlenv2",
   "language": "python",
   "name": "python3"
  },
  "language_info": {
   "codemirror_mode": {
    "name": "ipython",
    "version": 3
   },
   "file_extension": ".py",
   "mimetype": "text/x-python",
   "name": "python",
   "nbconvert_exporter": "python",
   "pygments_lexer": "ipython3",
   "version": "3.9.19"
  }
 },
 "nbformat": 4,
 "nbformat_minor": 2
}
